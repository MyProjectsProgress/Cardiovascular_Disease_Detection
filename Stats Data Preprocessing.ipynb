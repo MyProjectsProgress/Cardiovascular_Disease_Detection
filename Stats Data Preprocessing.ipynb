{
 "cells": [
  {
   "cell_type": "code",
   "execution_count": 373,
   "id": "7594b239",
   "metadata": {},
   "outputs": [],
   "source": [
    "import pandas as pd\n",
    "import numpy as np\n",
    "import seaborn as sns\n",
    "import matplotlib.pyplot as plt"
   ]
  },
  {
   "cell_type": "markdown",
   "id": "9e0c442a",
   "metadata": {},
   "source": [
    "# Exploring data"
   ]
  },
  {
   "cell_type": "code",
   "execution_count": 374,
   "id": "740b34b3",
   "metadata": {},
   "outputs": [],
   "source": [
    "df = pd.read_csv(\"cardio_train.csv\")"
   ]
  },
  {
   "cell_type": "code",
   "execution_count": 375,
   "id": "cc5b9ef2",
   "metadata": {},
   "outputs": [
    {
     "data": {
      "text/html": [
       "<div>\n",
       "<style scoped>\n",
       "    .dataframe tbody tr th:only-of-type {\n",
       "        vertical-align: middle;\n",
       "    }\n",
       "\n",
       "    .dataframe tbody tr th {\n",
       "        vertical-align: top;\n",
       "    }\n",
       "\n",
       "    .dataframe thead th {\n",
       "        text-align: right;\n",
       "    }\n",
       "</style>\n",
       "<table border=\"1\" class=\"dataframe\">\n",
       "  <thead>\n",
       "    <tr style=\"text-align: right;\">\n",
       "      <th></th>\n",
       "      <th>id;age;gender;height;weight;ap_hi;ap_lo;cholesterol;gluc;smoke;alco;active;cardio</th>\n",
       "    </tr>\n",
       "  </thead>\n",
       "  <tbody>\n",
       "    <tr>\n",
       "      <th>0</th>\n",
       "      <td>988;22469;1;155;69.0;130;80;2;2;0;0;1;0</td>\n",
       "    </tr>\n",
       "    <tr>\n",
       "      <th>1</th>\n",
       "      <td>989;14648;1;163;71.0;110;70;1;1;0;0;1;1</td>\n",
       "    </tr>\n",
       "    <tr>\n",
       "      <th>2</th>\n",
       "      <td>990;21901;1;165;70.0;120;80;1;1;0;0;1;0</td>\n",
       "    </tr>\n",
       "    <tr>\n",
       "      <th>3</th>\n",
       "      <td>991;14549;2;165;85.0;120;80;1;1;1;1;1;0</td>\n",
       "    </tr>\n",
       "    <tr>\n",
       "      <th>4</th>\n",
       "      <td>992;23393;1;155;62.0;120;80;1;1;0;0;1;0</td>\n",
       "    </tr>\n",
       "  </tbody>\n",
       "</table>\n",
       "</div>"
      ],
      "text/plain": [
       "  id;age;gender;height;weight;ap_hi;ap_lo;cholesterol;gluc;smoke;alco;active;cardio\n",
       "0            988;22469;1;155;69.0;130;80;2;2;0;0;1;0                               \n",
       "1            989;14648;1;163;71.0;110;70;1;1;0;0;1;1                               \n",
       "2            990;21901;1;165;70.0;120;80;1;1;0;0;1;0                               \n",
       "3            991;14549;2;165;85.0;120;80;1;1;1;1;1;0                               \n",
       "4            992;23393;1;155;62.0;120;80;1;1;0;0;1;0                               "
      ]
     },
     "execution_count": 375,
     "metadata": {},
     "output_type": "execute_result"
    }
   ],
   "source": [
    "df.head()"
   ]
  },
  {
   "cell_type": "markdown",
   "id": "0a8d6dc3",
   "metadata": {},
   "source": [
    "### Splitting columns & Dropping id column"
   ]
  },
  {
   "cell_type": "code",
   "execution_count": 376,
   "id": "84cd7512",
   "metadata": {
    "scrolled": true
   },
   "outputs": [
    {
     "data": {
      "text/html": [
       "<div>\n",
       "<style scoped>\n",
       "    .dataframe tbody tr th:only-of-type {\n",
       "        vertical-align: middle;\n",
       "    }\n",
       "\n",
       "    .dataframe tbody tr th {\n",
       "        vertical-align: top;\n",
       "    }\n",
       "\n",
       "    .dataframe thead th {\n",
       "        text-align: right;\n",
       "    }\n",
       "</style>\n",
       "<table border=\"1\" class=\"dataframe\">\n",
       "  <thead>\n",
       "    <tr style=\"text-align: right;\">\n",
       "      <th></th>\n",
       "      <th>id;age;gender;height;weight;ap_hi;ap_lo;cholesterol;gluc;smoke;alco;active;cardio</th>\n",
       "      <th>id</th>\n",
       "      <th>age</th>\n",
       "      <th>gender</th>\n",
       "      <th>height</th>\n",
       "      <th>weight</th>\n",
       "      <th>ap_hi</th>\n",
       "      <th>ap_lo</th>\n",
       "      <th>cholesterol</th>\n",
       "      <th>gluc</th>\n",
       "      <th>smoke</th>\n",
       "      <th>alco</th>\n",
       "      <th>active</th>\n",
       "      <th>cardio</th>\n",
       "    </tr>\n",
       "  </thead>\n",
       "  <tbody>\n",
       "    <tr>\n",
       "      <th>0</th>\n",
       "      <td>988;22469;1;155;69.0;130;80;2;2;0;0;1;0</td>\n",
       "      <td>988</td>\n",
       "      <td>22469</td>\n",
       "      <td>1</td>\n",
       "      <td>155</td>\n",
       "      <td>69.0</td>\n",
       "      <td>130</td>\n",
       "      <td>80</td>\n",
       "      <td>2</td>\n",
       "      <td>2</td>\n",
       "      <td>0</td>\n",
       "      <td>0</td>\n",
       "      <td>1</td>\n",
       "      <td>0</td>\n",
       "    </tr>\n",
       "    <tr>\n",
       "      <th>1</th>\n",
       "      <td>989;14648;1;163;71.0;110;70;1;1;0;0;1;1</td>\n",
       "      <td>989</td>\n",
       "      <td>14648</td>\n",
       "      <td>1</td>\n",
       "      <td>163</td>\n",
       "      <td>71.0</td>\n",
       "      <td>110</td>\n",
       "      <td>70</td>\n",
       "      <td>1</td>\n",
       "      <td>1</td>\n",
       "      <td>0</td>\n",
       "      <td>0</td>\n",
       "      <td>1</td>\n",
       "      <td>1</td>\n",
       "    </tr>\n",
       "    <tr>\n",
       "      <th>2</th>\n",
       "      <td>990;21901;1;165;70.0;120;80;1;1;0;0;1;0</td>\n",
       "      <td>990</td>\n",
       "      <td>21901</td>\n",
       "      <td>1</td>\n",
       "      <td>165</td>\n",
       "      <td>70.0</td>\n",
       "      <td>120</td>\n",
       "      <td>80</td>\n",
       "      <td>1</td>\n",
       "      <td>1</td>\n",
       "      <td>0</td>\n",
       "      <td>0</td>\n",
       "      <td>1</td>\n",
       "      <td>0</td>\n",
       "    </tr>\n",
       "    <tr>\n",
       "      <th>3</th>\n",
       "      <td>991;14549;2;165;85.0;120;80;1;1;1;1;1;0</td>\n",
       "      <td>991</td>\n",
       "      <td>14549</td>\n",
       "      <td>2</td>\n",
       "      <td>165</td>\n",
       "      <td>85.0</td>\n",
       "      <td>120</td>\n",
       "      <td>80</td>\n",
       "      <td>1</td>\n",
       "      <td>1</td>\n",
       "      <td>1</td>\n",
       "      <td>1</td>\n",
       "      <td>1</td>\n",
       "      <td>0</td>\n",
       "    </tr>\n",
       "    <tr>\n",
       "      <th>4</th>\n",
       "      <td>992;23393;1;155;62.0;120;80;1;1;0;0;1;0</td>\n",
       "      <td>992</td>\n",
       "      <td>23393</td>\n",
       "      <td>1</td>\n",
       "      <td>155</td>\n",
       "      <td>62.0</td>\n",
       "      <td>120</td>\n",
       "      <td>80</td>\n",
       "      <td>1</td>\n",
       "      <td>1</td>\n",
       "      <td>0</td>\n",
       "      <td>0</td>\n",
       "      <td>1</td>\n",
       "      <td>0</td>\n",
       "    </tr>\n",
       "  </tbody>\n",
       "</table>\n",
       "</div>"
      ],
      "text/plain": [
       "  id;age;gender;height;weight;ap_hi;ap_lo;cholesterol;gluc;smoke;alco;active;cardio  \\\n",
       "0            988;22469;1;155;69.0;130;80;2;2;0;0;1;0                                  \n",
       "1            989;14648;1;163;71.0;110;70;1;1;0;0;1;1                                  \n",
       "2            990;21901;1;165;70.0;120;80;1;1;0;0;1;0                                  \n",
       "3            991;14549;2;165;85.0;120;80;1;1;1;1;1;0                                  \n",
       "4            992;23393;1;155;62.0;120;80;1;1;0;0;1;0                                  \n",
       "\n",
       "    id    age gender height weight ap_hi ap_lo cholesterol gluc smoke alco  \\\n",
       "0  988  22469      1    155   69.0   130    80           2    2     0    0   \n",
       "1  989  14648      1    163   71.0   110    70           1    1     0    0   \n",
       "2  990  21901      1    165   70.0   120    80           1    1     0    0   \n",
       "3  991  14549      2    165   85.0   120    80           1    1     1    1   \n",
       "4  992  23393      1    155   62.0   120    80           1    1     0    0   \n",
       "\n",
       "  active cardio  \n",
       "0      1      0  \n",
       "1      1      1  \n",
       "2      1      0  \n",
       "3      1      0  \n",
       "4      1      0  "
      ]
     },
     "execution_count": 376,
     "metadata": {},
     "output_type": "execute_result"
    }
   ],
   "source": [
    "df[[\"id\",\"age\",\"gender\",\"height\",\"weight\",\"ap_hi\",\"ap_lo\",\"cholesterol\",\"gluc\",\"smoke\",\"alco\",\"active\",\"cardio\"]] = df[\"id;age;gender;height;weight;ap_hi;ap_lo;cholesterol;gluc;smoke;alco;active;cardio\"].str.split(\";\", expand =True)\n",
    "df.head()"
   ]
  },
  {
   "cell_type": "code",
   "execution_count": 377,
   "id": "f764f99e",
   "metadata": {},
   "outputs": [],
   "source": [
    "df.drop('id;age;gender;height;weight;ap_hi;ap_lo;cholesterol;gluc;smoke;alco;active;cardio', inplace=True, axis=1)"
   ]
  },
  {
   "cell_type": "code",
   "execution_count": 378,
   "id": "76f033ba",
   "metadata": {
    "scrolled": true
   },
   "outputs": [
    {
     "data": {
      "text/html": [
       "<div>\n",
       "<style scoped>\n",
       "    .dataframe tbody tr th:only-of-type {\n",
       "        vertical-align: middle;\n",
       "    }\n",
       "\n",
       "    .dataframe tbody tr th {\n",
       "        vertical-align: top;\n",
       "    }\n",
       "\n",
       "    .dataframe thead th {\n",
       "        text-align: right;\n",
       "    }\n",
       "</style>\n",
       "<table border=\"1\" class=\"dataframe\">\n",
       "  <thead>\n",
       "    <tr style=\"text-align: right;\">\n",
       "      <th></th>\n",
       "      <th>age</th>\n",
       "      <th>gender</th>\n",
       "      <th>height</th>\n",
       "      <th>weight</th>\n",
       "      <th>ap_hi</th>\n",
       "      <th>ap_lo</th>\n",
       "      <th>cholesterol</th>\n",
       "      <th>gluc</th>\n",
       "      <th>smoke</th>\n",
       "      <th>alco</th>\n",
       "      <th>active</th>\n",
       "      <th>cardio</th>\n",
       "    </tr>\n",
       "  </thead>\n",
       "  <tbody>\n",
       "    <tr>\n",
       "      <th>0</th>\n",
       "      <td>22469</td>\n",
       "      <td>1</td>\n",
       "      <td>155</td>\n",
       "      <td>69.0</td>\n",
       "      <td>130</td>\n",
       "      <td>80</td>\n",
       "      <td>2</td>\n",
       "      <td>2</td>\n",
       "      <td>0</td>\n",
       "      <td>0</td>\n",
       "      <td>1</td>\n",
       "      <td>0</td>\n",
       "    </tr>\n",
       "    <tr>\n",
       "      <th>1</th>\n",
       "      <td>14648</td>\n",
       "      <td>1</td>\n",
       "      <td>163</td>\n",
       "      <td>71.0</td>\n",
       "      <td>110</td>\n",
       "      <td>70</td>\n",
       "      <td>1</td>\n",
       "      <td>1</td>\n",
       "      <td>0</td>\n",
       "      <td>0</td>\n",
       "      <td>1</td>\n",
       "      <td>1</td>\n",
       "    </tr>\n",
       "    <tr>\n",
       "      <th>2</th>\n",
       "      <td>21901</td>\n",
       "      <td>1</td>\n",
       "      <td>165</td>\n",
       "      <td>70.0</td>\n",
       "      <td>120</td>\n",
       "      <td>80</td>\n",
       "      <td>1</td>\n",
       "      <td>1</td>\n",
       "      <td>0</td>\n",
       "      <td>0</td>\n",
       "      <td>1</td>\n",
       "      <td>0</td>\n",
       "    </tr>\n",
       "    <tr>\n",
       "      <th>3</th>\n",
       "      <td>14549</td>\n",
       "      <td>2</td>\n",
       "      <td>165</td>\n",
       "      <td>85.0</td>\n",
       "      <td>120</td>\n",
       "      <td>80</td>\n",
       "      <td>1</td>\n",
       "      <td>1</td>\n",
       "      <td>1</td>\n",
       "      <td>1</td>\n",
       "      <td>1</td>\n",
       "      <td>0</td>\n",
       "    </tr>\n",
       "    <tr>\n",
       "      <th>4</th>\n",
       "      <td>23393</td>\n",
       "      <td>1</td>\n",
       "      <td>155</td>\n",
       "      <td>62.0</td>\n",
       "      <td>120</td>\n",
       "      <td>80</td>\n",
       "      <td>1</td>\n",
       "      <td>1</td>\n",
       "      <td>0</td>\n",
       "      <td>0</td>\n",
       "      <td>1</td>\n",
       "      <td>0</td>\n",
       "    </tr>\n",
       "  </tbody>\n",
       "</table>\n",
       "</div>"
      ],
      "text/plain": [
       "     age gender height weight ap_hi ap_lo cholesterol gluc smoke alco active  \\\n",
       "0  22469      1    155   69.0   130    80           2    2     0    0      1   \n",
       "1  14648      1    163   71.0   110    70           1    1     0    0      1   \n",
       "2  21901      1    165   70.0   120    80           1    1     0    0      1   \n",
       "3  14549      2    165   85.0   120    80           1    1     1    1      1   \n",
       "4  23393      1    155   62.0   120    80           1    1     0    0      1   \n",
       "\n",
       "  cardio  \n",
       "0      0  \n",
       "1      1  \n",
       "2      0  \n",
       "3      0  \n",
       "4      0  "
      ]
     },
     "execution_count": 378,
     "metadata": {},
     "output_type": "execute_result"
    }
   ],
   "source": [
    "df.head()"
   ]
  },
  {
   "cell_type": "markdown",
   "id": "17c5e451",
   "metadata": {},
   "source": [
    "### Dropping id column as it's not important"
   ]
  },
  {
   "cell_type": "code",
   "execution_count": null,
   "id": "361a8fce",
   "metadata": {},
   "outputs": [],
   "source": [
    "df = df.drop(\"id\" , axis=1)"
   ]
  },
  {
   "cell_type": "code",
   "execution_count": 379,
   "id": "a8a16080",
   "metadata": {
    "scrolled": true
   },
   "outputs": [
    {
     "name": "stdout",
     "output_type": "stream",
     "text": [
      "<class 'pandas.core.frame.DataFrame'>\n",
      "RangeIndex: 69301 entries, 0 to 69300\n",
      "Data columns (total 12 columns):\n",
      " #   Column       Non-Null Count  Dtype \n",
      "---  ------       --------------  ----- \n",
      " 0   age          69301 non-null  object\n",
      " 1   gender       69301 non-null  object\n",
      " 2   height       69301 non-null  object\n",
      " 3   weight       69301 non-null  object\n",
      " 4   ap_hi        69301 non-null  object\n",
      " 5   ap_lo        69301 non-null  object\n",
      " 6   cholesterol  69301 non-null  object\n",
      " 7   gluc         69301 non-null  object\n",
      " 8   smoke        69301 non-null  object\n",
      " 9   alco         69301 non-null  object\n",
      " 10  active       69301 non-null  object\n",
      " 11  cardio       69301 non-null  object\n",
      "dtypes: object(12)\n",
      "memory usage: 6.3+ MB\n"
     ]
    }
   ],
   "source": [
    "df.info()"
   ]
  },
  {
   "cell_type": "markdown",
   "id": "f908dbf2",
   "metadata": {},
   "source": [
    "### Converting data from categorical to numeric"
   ]
  },
  {
   "cell_type": "code",
   "execution_count": 380,
   "id": "3ff3eadc",
   "metadata": {},
   "outputs": [
    {
     "name": "stdout",
     "output_type": "stream",
     "text": [
      "<class 'pandas.core.frame.DataFrame'>\n",
      "RangeIndex: 69301 entries, 0 to 69300\n",
      "Data columns (total 12 columns):\n",
      " #   Column       Non-Null Count  Dtype  \n",
      "---  ------       --------------  -----  \n",
      " 0   age          69301 non-null  int64  \n",
      " 1   gender       69301 non-null  int64  \n",
      " 2   height       69301 non-null  int64  \n",
      " 3   weight       69301 non-null  float64\n",
      " 4   ap_hi        69301 non-null  int64  \n",
      " 5   ap_lo        69301 non-null  int64  \n",
      " 6   cholesterol  69301 non-null  int64  \n",
      " 7   gluc         69301 non-null  int64  \n",
      " 8   smoke        69301 non-null  int64  \n",
      " 9   alco         69301 non-null  int64  \n",
      " 10  active       69301 non-null  int64  \n",
      " 11  cardio       69301 non-null  int64  \n",
      "dtypes: float64(1), int64(11)\n",
      "memory usage: 6.3 MB\n"
     ]
    }
   ],
   "source": [
    "columns = [\"age\",\"gender\",\"height\",\"weight\",\"ap_hi\",\"ap_lo\",\"cholesterol\",\"gluc\",\"smoke\",\"alco\",\"active\",\"cardio\"]\n",
    "for i in columns:\n",
    "    df[i] = pd.to_numeric(df[i])\n",
    "df.info()"
   ]
  },
  {
   "cell_type": "markdown",
   "id": "e9050c03",
   "metadata": {},
   "source": [
    "### Checking nulls and duplicates and dropping them "
   ]
  },
  {
   "cell_type": "code",
   "execution_count": 381,
   "id": "4c8205c7",
   "metadata": {},
   "outputs": [
    {
     "data": {
      "text/plain": [
       "age            0\n",
       "gender         0\n",
       "height         0\n",
       "weight         0\n",
       "ap_hi          0\n",
       "ap_lo          0\n",
       "cholesterol    0\n",
       "gluc           0\n",
       "smoke          0\n",
       "alco           0\n",
       "active         0\n",
       "cardio         0\n",
       "dtype: int64"
      ]
     },
     "execution_count": 381,
     "metadata": {},
     "output_type": "execute_result"
    }
   ],
   "source": [
    "df.isnull().sum()"
   ]
  },
  {
   "cell_type": "code",
   "execution_count": 382,
   "id": "08aeaf7c",
   "metadata": {
    "scrolled": true
   },
   "outputs": [
    {
     "data": {
      "text/plain": [
       "24"
      ]
     },
     "execution_count": 382,
     "metadata": {},
     "output_type": "execute_result"
    }
   ],
   "source": [
    "df.duplicated().sum()"
   ]
  },
  {
   "cell_type": "code",
   "execution_count": 383,
   "id": "47fa25d3",
   "metadata": {
    "scrolled": true
   },
   "outputs": [],
   "source": [
    "df.drop_duplicates(inplace=True)"
   ]
  },
  {
   "cell_type": "code",
   "execution_count": 384,
   "id": "298b3bf8",
   "metadata": {},
   "outputs": [
    {
     "data": {
      "text/plain": [
       "0"
      ]
     },
     "execution_count": 384,
     "metadata": {},
     "output_type": "execute_result"
    }
   ],
   "source": [
    "df.duplicated().sum()"
   ]
  },
  {
   "cell_type": "markdown",
   "id": "53097a90",
   "metadata": {},
   "source": [
    "### Checking the Target Column"
   ]
  },
  {
   "cell_type": "code",
   "execution_count": 385,
   "id": "f9bb53c4",
   "metadata": {},
   "outputs": [
    {
     "data": {
      "text/plain": [
       "array([0, 1], dtype=int64)"
      ]
     },
     "execution_count": 385,
     "metadata": {},
     "output_type": "execute_result"
    }
   ],
   "source": [
    "df[\"cardio\"].unique()"
   ]
  },
  {
   "cell_type": "code",
   "execution_count": 386,
   "id": "66d32ebd",
   "metadata": {
    "scrolled": false
   },
   "outputs": [
    {
     "data": {
      "text/html": [
       "<div>\n",
       "<style scoped>\n",
       "    .dataframe tbody tr th:only-of-type {\n",
       "        vertical-align: middle;\n",
       "    }\n",
       "\n",
       "    .dataframe tbody tr th {\n",
       "        vertical-align: top;\n",
       "    }\n",
       "\n",
       "    .dataframe thead th {\n",
       "        text-align: right;\n",
       "    }\n",
       "</style>\n",
       "<table border=\"1\" class=\"dataframe\">\n",
       "  <thead>\n",
       "    <tr style=\"text-align: right;\">\n",
       "      <th></th>\n",
       "      <th>age</th>\n",
       "      <th>gender</th>\n",
       "      <th>height</th>\n",
       "      <th>weight</th>\n",
       "      <th>ap_hi</th>\n",
       "      <th>ap_lo</th>\n",
       "      <th>cholesterol</th>\n",
       "      <th>gluc</th>\n",
       "      <th>smoke</th>\n",
       "      <th>alco</th>\n",
       "      <th>active</th>\n",
       "      <th>cardio</th>\n",
       "    </tr>\n",
       "  </thead>\n",
       "  <tbody>\n",
       "  </tbody>\n",
       "</table>\n",
       "</div>"
      ],
      "text/plain": [
       "Empty DataFrame\n",
       "Columns: [age, gender, height, weight, ap_hi, ap_lo, cholesterol, gluc, smoke, alco, active, cardio]\n",
       "Index: []"
      ]
     },
     "execution_count": 386,
     "metadata": {},
     "output_type": "execute_result"
    }
   ],
   "source": [
    "df[(df[\"cardio\"]>1)]"
   ]
  },
  {
   "cell_type": "code",
   "execution_count": 387,
   "id": "e978b0f7",
   "metadata": {},
   "outputs": [],
   "source": [
    "#df.drop(df.index[(df[\"cardio\"]>1)], inplace=True)"
   ]
  },
  {
   "cell_type": "code",
   "execution_count": 388,
   "id": "1a01e1d8",
   "metadata": {},
   "outputs": [],
   "source": [
    "#df[(df[\"cardio\"]>1)]"
   ]
  },
  {
   "cell_type": "markdown",
   "id": "24f8f8b9",
   "metadata": {},
   "source": [
    "### Checking for outliers"
   ]
  },
  {
   "cell_type": "code",
   "execution_count": null,
   "id": "6df167e9",
   "metadata": {},
   "outputs": [],
   "source": [
    "plt.figure(figsize=(10,10))\n",
    "sns.boxplot(data = df)\n",
    "plt.xticks(rotation=40)\n",
    "plt.show()"
   ]
  },
  {
   "cell_type": "markdown",
   "id": "794bacd1",
   "metadata": {},
   "source": [
    "### Comparing people with and without cardio vascular disease "
   ]
  },
  {
   "cell_type": "code",
   "execution_count": 389,
   "id": "7f11c9c8",
   "metadata": {
    "scrolled": true
   },
   "outputs": [
    {
     "name": "stderr",
     "output_type": "stream",
     "text": [
      "D:\\7agat msh bafta7ha\\Anaconda Last Directory\\lib\\site-packages\\seaborn\\_decorators.py:36: FutureWarning: Pass the following variable as a keyword arg: x. From version 0.12, the only valid positional argument will be `data`, and passing other arguments without an explicit keyword will result in an error or misinterpretation.\n",
      "  warnings.warn(\n"
     ]
    },
    {
     "data": {
      "text/plain": [
       "<AxesSubplot:xlabel='cardio', ylabel='count'>"
      ]
     },
     "execution_count": 389,
     "metadata": {},
     "output_type": "execute_result"
    },
    {
     "data": {
      "image/png": "[encoded data removed]",
      "text/plain": [
       "<Figure size 432x288 with 1 Axes>"
      ]
     },
     "metadata": {
      "needs_background": "light"
     },
     "output_type": "display_data"
    }
   ],
   "source": [
    "# Data is evenly splitted \n",
    "sns.countplot(df[\"cardio\"])"
   ]
  },
  {
   "cell_type": "markdown",
   "id": "c77181ac",
   "metadata": {},
   "source": [
    "### converting age column from days to years"
   ]
  },
  {
   "cell_type": "code",
   "execution_count": 390,
   "id": "4f0f8522",
   "metadata": {},
   "outputs": [],
   "source": [
    "df[\"age\"] = (df[\"age\"] / 365.25).round(0)"
   ]
  },
  {
   "cell_type": "code",
   "execution_count": 391,
   "id": "2904ca66",
   "metadata": {
    "scrolled": true
   },
   "outputs": [
    {
     "data": {
      "text/html": [
       "<div>\n",
       "<style scoped>\n",
       "    .dataframe tbody tr th:only-of-type {\n",
       "        vertical-align: middle;\n",
       "    }\n",
       "\n",
       "    .dataframe tbody tr th {\n",
       "        vertical-align: top;\n",
       "    }\n",
       "\n",
       "    .dataframe thead th {\n",
       "        text-align: right;\n",
       "    }\n",
       "</style>\n",
       "<table border=\"1\" class=\"dataframe\">\n",
       "  <thead>\n",
       "    <tr style=\"text-align: right;\">\n",
       "      <th></th>\n",
       "      <th>age</th>\n",
       "      <th>gender</th>\n",
       "      <th>height</th>\n",
       "      <th>weight</th>\n",
       "      <th>ap_hi</th>\n",
       "      <th>ap_lo</th>\n",
       "      <th>cholesterol</th>\n",
       "      <th>gluc</th>\n",
       "      <th>smoke</th>\n",
       "      <th>alco</th>\n",
       "      <th>active</th>\n",
       "      <th>cardio</th>\n",
       "    </tr>\n",
       "  </thead>\n",
       "  <tbody>\n",
       "    <tr>\n",
       "      <th>0</th>\n",
       "      <td>62</td>\n",
       "      <td>1</td>\n",
       "      <td>155</td>\n",
       "      <td>69.0</td>\n",
       "      <td>130</td>\n",
       "      <td>80</td>\n",
       "      <td>2</td>\n",
       "      <td>2</td>\n",
       "      <td>0</td>\n",
       "      <td>0</td>\n",
       "      <td>1</td>\n",
       "      <td>0</td>\n",
       "    </tr>\n",
       "    <tr>\n",
       "      <th>1</th>\n",
       "      <td>40</td>\n",
       "      <td>1</td>\n",
       "      <td>163</td>\n",
       "      <td>71.0</td>\n",
       "      <td>110</td>\n",
       "      <td>70</td>\n",
       "      <td>1</td>\n",
       "      <td>1</td>\n",
       "      <td>0</td>\n",
       "      <td>0</td>\n",
       "      <td>1</td>\n",
       "      <td>1</td>\n",
       "    </tr>\n",
       "    <tr>\n",
       "      <th>2</th>\n",
       "      <td>60</td>\n",
       "      <td>1</td>\n",
       "      <td>165</td>\n",
       "      <td>70.0</td>\n",
       "      <td>120</td>\n",
       "      <td>80</td>\n",
       "      <td>1</td>\n",
       "      <td>1</td>\n",
       "      <td>0</td>\n",
       "      <td>0</td>\n",
       "      <td>1</td>\n",
       "      <td>0</td>\n",
       "    </tr>\n",
       "    <tr>\n",
       "      <th>3</th>\n",
       "      <td>40</td>\n",
       "      <td>2</td>\n",
       "      <td>165</td>\n",
       "      <td>85.0</td>\n",
       "      <td>120</td>\n",
       "      <td>80</td>\n",
       "      <td>1</td>\n",
       "      <td>1</td>\n",
       "      <td>1</td>\n",
       "      <td>1</td>\n",
       "      <td>1</td>\n",
       "      <td>0</td>\n",
       "    </tr>\n",
       "    <tr>\n",
       "      <th>4</th>\n",
       "      <td>64</td>\n",
       "      <td>1</td>\n",
       "      <td>155</td>\n",
       "      <td>62.0</td>\n",
       "      <td>120</td>\n",
       "      <td>80</td>\n",
       "      <td>1</td>\n",
       "      <td>1</td>\n",
       "      <td>0</td>\n",
       "      <td>0</td>\n",
       "      <td>1</td>\n",
       "      <td>0</td>\n",
       "    </tr>\n",
       "  </tbody>\n",
       "</table>\n",
       "</div>"
      ],
      "text/plain": [
       "   age  gender  height  weight  ap_hi  ap_lo  cholesterol  gluc  smoke  alco  \\\n",
       "0   62       1     155    69.0    130     80            2     2      0     0   \n",
       "1   40       1     163    71.0    110     70            1     1      0     0   \n",
       "2   60       1     165    70.0    120     80            1     1      0     0   \n",
       "3   40       2     165    85.0    120     80            1     1      1     1   \n",
       "4   64       1     155    62.0    120     80            1     1      0     0   \n",
       "\n",
       "   active  cardio  \n",
       "0       1       0  \n",
       "1       1       1  \n",
       "2       1       0  \n",
       "3       1       0  \n",
       "4       1       0  "
      ]
     },
     "execution_count": 391,
     "metadata": {},
     "output_type": "execute_result"
    }
   ],
   "source": [
    "df[\"age\"] = pd.to_numeric(df[\"age\"], downcast=\"integer\")\n",
    "df.head()"
   ]
  },
  {
   "cell_type": "markdown",
   "id": "6b4fceb3",
   "metadata": {},
   "source": [
    "#### Insight: People with cardivascular disease are less than people without cardio vascular disease before age of 55 years. After that age people of cardio vascular disease are more than people without this disease."
   ]
  },
  {
   "cell_type": "markdown",
   "id": "7941a6a0",
   "metadata": {},
   "source": [
    "### Checking the corrolation among columns"
   ]
  },
  {
   "cell_type": "code",
   "execution_count": 392,
   "id": "29287a68",
   "metadata": {
    "scrolled": false
   },
   "outputs": [
    {
     "data": {
      "text/html": [
       "<div>\n",
       "<style scoped>\n",
       "    .dataframe tbody tr th:only-of-type {\n",
       "        vertical-align: middle;\n",
       "    }\n",
       "\n",
       "    .dataframe tbody tr th {\n",
       "        vertical-align: top;\n",
       "    }\n",
       "\n",
       "    .dataframe thead th {\n",
       "        text-align: right;\n",
       "    }\n",
       "</style>\n",
       "<table border=\"1\" class=\"dataframe\">\n",
       "  <thead>\n",
       "    <tr style=\"text-align: right;\">\n",
       "      <th></th>\n",
       "      <th>age</th>\n",
       "      <th>gender</th>\n",
       "      <th>height</th>\n",
       "      <th>weight</th>\n",
       "      <th>ap_hi</th>\n",
       "      <th>ap_lo</th>\n",
       "      <th>cholesterol</th>\n",
       "      <th>gluc</th>\n",
       "      <th>smoke</th>\n",
       "      <th>alco</th>\n",
       "      <th>active</th>\n",
       "      <th>cardio</th>\n",
       "    </tr>\n",
       "  </thead>\n",
       "  <tbody>\n",
       "    <tr>\n",
       "      <th>age</th>\n",
       "      <td>1.000000</td>\n",
       "      <td>-0.023200</td>\n",
       "      <td>-0.081151</td>\n",
       "      <td>0.054286</td>\n",
       "      <td>0.020357</td>\n",
       "      <td>0.017668</td>\n",
       "      <td>0.154309</td>\n",
       "      <td>0.098821</td>\n",
       "      <td>-0.047936</td>\n",
       "      <td>-0.029630</td>\n",
       "      <td>-0.009835</td>\n",
       "      <td>0.237792</td>\n",
       "    </tr>\n",
       "    <tr>\n",
       "      <th>gender</th>\n",
       "      <td>-0.023200</td>\n",
       "      <td>1.000000</td>\n",
       "      <td>0.499420</td>\n",
       "      <td>0.155562</td>\n",
       "      <td>0.005970</td>\n",
       "      <td>0.015383</td>\n",
       "      <td>-0.036429</td>\n",
       "      <td>-0.021221</td>\n",
       "      <td>0.337604</td>\n",
       "      <td>0.170998</td>\n",
       "      <td>0.006293</td>\n",
       "      <td>0.008519</td>\n",
       "    </tr>\n",
       "    <tr>\n",
       "      <th>height</th>\n",
       "      <td>-0.081151</td>\n",
       "      <td>0.499420</td>\n",
       "      <td>1.000000</td>\n",
       "      <td>0.290348</td>\n",
       "      <td>0.005493</td>\n",
       "      <td>0.006216</td>\n",
       "      <td>-0.050631</td>\n",
       "      <td>-0.018926</td>\n",
       "      <td>0.187912</td>\n",
       "      <td>0.094171</td>\n",
       "      <td>-0.005973</td>\n",
       "      <td>-0.011066</td>\n",
       "    </tr>\n",
       "    <tr>\n",
       "      <th>weight</th>\n",
       "      <td>0.054286</td>\n",
       "      <td>0.155562</td>\n",
       "      <td>0.290348</td>\n",
       "      <td>1.000000</td>\n",
       "      <td>0.030656</td>\n",
       "      <td>0.043638</td>\n",
       "      <td>0.141811</td>\n",
       "      <td>0.107187</td>\n",
       "      <td>0.068248</td>\n",
       "      <td>0.067217</td>\n",
       "      <td>-0.016510</td>\n",
       "      <td>0.182033</td>\n",
       "    </tr>\n",
       "    <tr>\n",
       "      <th>ap_hi</th>\n",
       "      <td>0.020357</td>\n",
       "      <td>0.005970</td>\n",
       "      <td>0.005493</td>\n",
       "      <td>0.030656</td>\n",
       "      <td>1.000000</td>\n",
       "      <td>0.015917</td>\n",
       "      <td>0.023563</td>\n",
       "      <td>0.011813</td>\n",
       "      <td>-0.000940</td>\n",
       "      <td>0.001380</td>\n",
       "      <td>0.000034</td>\n",
       "      <td>0.054211</td>\n",
       "    </tr>\n",
       "    <tr>\n",
       "      <th>ap_lo</th>\n",
       "      <td>0.017668</td>\n",
       "      <td>0.015383</td>\n",
       "      <td>0.006216</td>\n",
       "      <td>0.043638</td>\n",
       "      <td>0.015917</td>\n",
       "      <td>1.000000</td>\n",
       "      <td>0.024007</td>\n",
       "      <td>0.010883</td>\n",
       "      <td>0.004938</td>\n",
       "      <td>0.010757</td>\n",
       "      <td>0.004966</td>\n",
       "      <td>0.065288</td>\n",
       "    </tr>\n",
       "    <tr>\n",
       "      <th>cholesterol</th>\n",
       "      <td>0.154309</td>\n",
       "      <td>-0.036429</td>\n",
       "      <td>-0.050631</td>\n",
       "      <td>0.141811</td>\n",
       "      <td>0.023563</td>\n",
       "      <td>0.024007</td>\n",
       "      <td>1.000000</td>\n",
       "      <td>0.451702</td>\n",
       "      <td>0.010179</td>\n",
       "      <td>0.035973</td>\n",
       "      <td>0.009724</td>\n",
       "      <td>0.220723</td>\n",
       "    </tr>\n",
       "    <tr>\n",
       "      <th>gluc</th>\n",
       "      <td>0.098821</td>\n",
       "      <td>-0.021221</td>\n",
       "      <td>-0.018926</td>\n",
       "      <td>0.107187</td>\n",
       "      <td>0.011813</td>\n",
       "      <td>0.010883</td>\n",
       "      <td>0.451702</td>\n",
       "      <td>1.000000</td>\n",
       "      <td>-0.004651</td>\n",
       "      <td>0.011409</td>\n",
       "      <td>-0.007293</td>\n",
       "      <td>0.089022</td>\n",
       "    </tr>\n",
       "    <tr>\n",
       "      <th>smoke</th>\n",
       "      <td>-0.047936</td>\n",
       "      <td>0.337604</td>\n",
       "      <td>0.187912</td>\n",
       "      <td>0.068248</td>\n",
       "      <td>-0.000940</td>\n",
       "      <td>0.004938</td>\n",
       "      <td>0.010179</td>\n",
       "      <td>-0.004651</td>\n",
       "      <td>1.000000</td>\n",
       "      <td>0.339692</td>\n",
       "      <td>0.025806</td>\n",
       "      <td>-0.015273</td>\n",
       "    </tr>\n",
       "    <tr>\n",
       "      <th>alco</th>\n",
       "      <td>-0.029630</td>\n",
       "      <td>0.170998</td>\n",
       "      <td>0.094171</td>\n",
       "      <td>0.067217</td>\n",
       "      <td>0.001380</td>\n",
       "      <td>0.010757</td>\n",
       "      <td>0.035973</td>\n",
       "      <td>0.011409</td>\n",
       "      <td>0.339692</td>\n",
       "      <td>1.000000</td>\n",
       "      <td>0.025756</td>\n",
       "      <td>-0.007253</td>\n",
       "    </tr>\n",
       "    <tr>\n",
       "      <th>active</th>\n",
       "      <td>-0.009835</td>\n",
       "      <td>0.006293</td>\n",
       "      <td>-0.005973</td>\n",
       "      <td>-0.016510</td>\n",
       "      <td>0.000034</td>\n",
       "      <td>0.004966</td>\n",
       "      <td>0.009724</td>\n",
       "      <td>-0.007293</td>\n",
       "      <td>0.025806</td>\n",
       "      <td>0.025756</td>\n",
       "      <td>1.000000</td>\n",
       "      <td>-0.035605</td>\n",
       "    </tr>\n",
       "    <tr>\n",
       "      <th>cardio</th>\n",
       "      <td>0.237792</td>\n",
       "      <td>0.008519</td>\n",
       "      <td>-0.011066</td>\n",
       "      <td>0.182033</td>\n",
       "      <td>0.054211</td>\n",
       "      <td>0.065288</td>\n",
       "      <td>0.220723</td>\n",
       "      <td>0.089022</td>\n",
       "      <td>-0.015273</td>\n",
       "      <td>-0.007253</td>\n",
       "      <td>-0.035605</td>\n",
       "      <td>1.000000</td>\n",
       "    </tr>\n",
       "  </tbody>\n",
       "</table>\n",
       "</div>"
      ],
      "text/plain": [
       "                  age    gender    height    weight     ap_hi     ap_lo  \\\n",
       "age          1.000000 -0.023200 -0.081151  0.054286  0.020357  0.017668   \n",
       "gender      -0.023200  1.000000  0.499420  0.155562  0.005970  0.015383   \n",
       "height      -0.081151  0.499420  1.000000  0.290348  0.005493  0.006216   \n",
       "weight       0.054286  0.155562  0.290348  1.000000  0.030656  0.043638   \n",
       "ap_hi        0.020357  0.005970  0.005493  0.030656  1.000000  0.015917   \n",
       "ap_lo        0.017668  0.015383  0.006216  0.043638  0.015917  1.000000   \n",
       "cholesterol  0.154309 -0.036429 -0.050631  0.141811  0.023563  0.024007   \n",
       "gluc         0.098821 -0.021221 -0.018926  0.107187  0.011813  0.010883   \n",
       "smoke       -0.047936  0.337604  0.187912  0.068248 -0.000940  0.004938   \n",
       "alco        -0.029630  0.170998  0.094171  0.067217  0.001380  0.010757   \n",
       "active      -0.009835  0.006293 -0.005973 -0.016510  0.000034  0.004966   \n",
       "cardio       0.237792  0.008519 -0.011066  0.182033  0.054211  0.065288   \n",
       "\n",
       "             cholesterol      gluc     smoke      alco    active    cardio  \n",
       "age             0.154309  0.098821 -0.047936 -0.029630 -0.009835  0.237792  \n",
       "gender         -0.036429 -0.021221  0.337604  0.170998  0.006293  0.008519  \n",
       "height         -0.050631 -0.018926  0.187912  0.094171 -0.005973 -0.011066  \n",
       "weight          0.141811  0.107187  0.068248  0.067217 -0.016510  0.182033  \n",
       "ap_hi           0.023563  0.011813 -0.000940  0.001380  0.000034  0.054211  \n",
       "ap_lo           0.024007  0.010883  0.004938  0.010757  0.004966  0.065288  \n",
       "cholesterol     1.000000  0.451702  0.010179  0.035973  0.009724  0.220723  \n",
       "gluc            0.451702  1.000000 -0.004651  0.011409 -0.007293  0.089022  \n",
       "smoke           0.010179 -0.004651  1.000000  0.339692  0.025806 -0.015273  \n",
       "alco            0.035973  0.011409  0.339692  1.000000  0.025756 -0.007253  \n",
       "active          0.009724 -0.007293  0.025806  0.025756  1.000000 -0.035605  \n",
       "cardio          0.220723  0.089022 -0.015273 -0.007253 -0.035605  1.000000  "
      ]
     },
     "execution_count": 392,
     "metadata": {},
     "output_type": "execute_result"
    }
   ],
   "source": [
    "df.corr()"
   ]
  },
  {
   "cell_type": "code",
   "execution_count": 393,
   "id": "1b85269d",
   "metadata": {},
   "outputs": [
    {
     "data": {
      "text/plain": [
       "<AxesSubplot:>"
      ]
     },
     "execution_count": 393,
     "metadata": {},
     "output_type": "execute_result"
    },
    {
     "data": {
      "image/png": "[encoded data removed]",
      "text/plain": [
       "<Figure size 720x720 with 2 Axes>"
      ]
     },
     "metadata": {
      "needs_background": "light"
     },
     "output_type": "display_data"
    }
   ],
   "source": [
    "plt.figure(figsize=(10,10))\n",
    "sns.heatmap(df.corr(), annot=True, fmt=\".0%\")"
   ]
  },
  {
   "cell_type": "markdown",
   "id": "be93b8eb",
   "metadata": {},
   "source": [
    "### Analyzing the relation between age and cardio vascular disease"
   ]
  },
  {
   "cell_type": "code",
   "execution_count": 394,
   "id": "80a7ab60",
   "metadata": {
    "scrolled": true
   },
   "outputs": [
    {
     "data": {
      "text/plain": [
       "<AxesSubplot:xlabel='age', ylabel='count'>"
      ]
     },
     "execution_count": 394,
     "metadata": {},
     "output_type": "execute_result"
    },
    {
     "data": {
      "image/png": "[encoded data removed]",
      "text/plain": [
       "<Figure size 432x288 with 1 Axes>"
      ]
     },
     "metadata": {
      "needs_background": "light"
     },
     "output_type": "display_data"
    }
   ],
   "source": [
    "sns.countplot(x=\"age\", hue=\"cardio\", data=df, palette=\"colorblind\", \n",
    "              edgecolor= sns.color_palette(\"dark\", n_colors=1))"
   ]
  },
  {
   "cell_type": "markdown",
   "id": "e461557d",
   "metadata": {},
   "source": [
    "### Analyzing the relation between Cholesterol level and cardio vascular disease"
   ]
  },
  {
   "cell_type": "code",
   "execution_count": 395,
   "id": "dc3a1142",
   "metadata": {},
   "outputs": [
    {
     "data": {
      "text/plain": [
       "<AxesSubplot:xlabel='cholesterol', ylabel='count'>"
      ]
     },
     "execution_count": 395,
     "metadata": {},
     "output_type": "execute_result"
    },
    {
     "data": {
      "image/png": "[encoded data removed]",
      "text/plain": [
       "<Figure size 432x288 with 1 Axes>"
      ]
     },
     "metadata": {
      "needs_background": "light"
     },
     "output_type": "display_data"
    }
   ],
   "source": [
    "sns.countplot(x=\"cholesterol\", hue=\"cardio\", data=df, palette=\"colorblind\", \n",
    "              edgecolor= sns.color_palette(\"dark\", n_colors=1))"
   ]
  },
  {
   "cell_type": "markdown",
   "id": "989f3051",
   "metadata": {},
   "source": [
    "### Visualizing the weight column"
   ]
  },
  {
   "cell_type": "code",
   "execution_count": 396,
   "id": "fe88e776",
   "metadata": {
    "scrolled": false
   },
   "outputs": [
    {
     "data": {
      "text/plain": [
       "<AxesSubplot:xlabel='weight', ylabel='Count'>"
      ]
     },
     "execution_count": 396,
     "metadata": {},
     "output_type": "execute_result"
    },
    {
     "data": {
      "image/png": "[encoded data removed]",
      "text/plain": [
       "<Figure size 432x288 with 1 Axes>"
      ]
     },
     "metadata": {
      "needs_background": "light"
     },
     "output_type": "display_data"
    }
   ],
   "source": [
    "sns.histplot(data=df, x=\"weight\")"
   ]
  },
  {
   "cell_type": "markdown",
   "id": "a64c9e52",
   "metadata": {},
   "source": [
    "#### Insight: The highest two factors affecting cardio vascular disease are age and cholesterol then weight"
   ]
  },
  {
   "cell_type": "markdown",
   "id": "04a88bcf",
   "metadata": {},
   "source": [
    "# Data Cleaning"
   ]
  },
  {
   "cell_type": "markdown",
   "id": "3bd3709f",
   "metadata": {},
   "source": [
    "## Outliers Check"
   ]
  },
  {
   "cell_type": "code",
   "execution_count": 397,
   "id": "1e8d05fe",
   "metadata": {},
   "outputs": [],
   "source": [
    "columns2 = [\"age\",\"height\",\"weight\", \"ap_hi\",\"ap_lo\"]"
   ]
  },
  {
   "cell_type": "code",
   "execution_count": 398,
   "id": "f003f7ad",
   "metadata": {},
   "outputs": [
    {
     "name": "stderr",
     "output_type": "stream",
     "text": [
      "D:\\7agat msh bafta7ha\\Anaconda Last Directory\\lib\\site-packages\\seaborn\\distributions.py:2619: FutureWarning: `distplot` is a deprecated function and will be removed in a future version. Please adapt your code to use either `displot` (a figure-level function with similar flexibility) or `histplot` (an axes-level function for histograms).\n",
      "  warnings.warn(msg, FutureWarning)\n"
     ]
    },
    {
     "data": {
      "text/plain": [
       "<AxesSubplot:xlabel='age', ylabel='Density'>"
      ]
     },
     "execution_count": 398,
     "metadata": {},
     "output_type": "execute_result"
    },
    {
     "data": {
      "image/png": "[encoded data removed]",
      "text/plain": [
       "<Figure size 432x288 with 1 Axes>"
      ]
     },
     "metadata": {
      "needs_background": "light"
     },
     "output_type": "display_data"
    }
   ],
   "source": [
    "sns.distplot(df[\"age\"])"
   ]
  },
  {
   "cell_type": "code",
   "execution_count": 399,
   "id": "52842605",
   "metadata": {},
   "outputs": [
    {
     "data": {
      "image/png": "[encoded data removed]",
      "text/plain": [
       "<Figure size 432x288 with 1 Axes>"
      ]
     },
     "metadata": {
      "needs_background": "light"
     },
     "output_type": "display_data"
    }
   ],
   "source": [
    "figure = df.boxplot(column=\"age\")"
   ]
  },
  {
   "cell_type": "code",
   "execution_count": 400,
   "id": "da7be5bb",
   "metadata": {
    "scrolled": true
   },
   "outputs": [
    {
     "name": "stderr",
     "output_type": "stream",
     "text": [
      "D:\\7agat msh bafta7ha\\Anaconda Last Directory\\lib\\site-packages\\seaborn\\distributions.py:2619: FutureWarning: `distplot` is a deprecated function and will be removed in a future version. Please adapt your code to use either `displot` (a figure-level function with similar flexibility) or `histplot` (an axes-level function for histograms).\n",
      "  warnings.warn(msg, FutureWarning)\n"
     ]
    },
    {
     "data": {
      "text/plain": [
       "<AxesSubplot:xlabel='height', ylabel='Density'>"
      ]
     },
     "execution_count": 400,
     "metadata": {},
     "output_type": "execute_result"
    },
    {
     "data": {
      "image/png": "[encoded data removed]",
      "text/plain": [
       "<Figure size 432x288 with 1 Axes>"
      ]
     },
     "metadata": {
      "needs_background": "light"
     },
     "output_type": "display_data"
    }
   ],
   "source": [
    "sns.distplot(df[\"height\"])"
   ]
  },
  {
   "cell_type": "code",
   "execution_count": 401,
   "id": "4423b2b5",
   "metadata": {},
   "outputs": [
    {
     "data": {
      "image/png": "[encoded data removed]",
      "text/plain": [
       "<Figure size 432x288 with 1 Axes>"
      ]
     },
     "metadata": {
      "needs_background": "light"
     },
     "output_type": "display_data"
    }
   ],
   "source": [
    "figure = df.boxplot(column=\"height\")"
   ]
  },
  {
   "cell_type": "code",
   "execution_count": 402,
   "id": "b034c687",
   "metadata": {
    "scrolled": true
   },
   "outputs": [
    {
     "name": "stderr",
     "output_type": "stream",
     "text": [
      "D:\\7agat msh bafta7ha\\Anaconda Last Directory\\lib\\site-packages\\seaborn\\distributions.py:2619: FutureWarning: `distplot` is a deprecated function and will be removed in a future version. Please adapt your code to use either `displot` (a figure-level function with similar flexibility) or `histplot` (an axes-level function for histograms).\n",
      "  warnings.warn(msg, FutureWarning)\n"
     ]
    },
    {
     "data": {
      "text/plain": [
       "<AxesSubplot:xlabel='weight', ylabel='Density'>"
      ]
     },
     "execution_count": 402,
     "metadata": {},
     "output_type": "execute_result"
    },
    {
     "data": {
      "image/png": "[encoded data removed]",
      "text/plain": [
       "<Figure size 432x288 with 1 Axes>"
      ]
     },
     "metadata": {
      "needs_background": "light"
     },
     "output_type": "display_data"
    }
   ],
   "source": [
    "sns.distplot(df[\"weight\"])"
   ]
  },
  {
   "cell_type": "code",
   "execution_count": 403,
   "id": "c1f693d0",
   "metadata": {},
   "outputs": [
    {
     "data": {
      "image/png": "[encoded data removed]",
      "text/plain": [
       "<Figure size 432x288 with 1 Axes>"
      ]
     },
     "metadata": {
      "needs_background": "light"
     },
     "output_type": "display_data"
    }
   ],
   "source": [
    "figure = df.boxplot(column=\"weight\")"
   ]
  },
  {
   "cell_type": "code",
   "execution_count": 404,
   "id": "7e45246e",
   "metadata": {},
   "outputs": [
    {
     "name": "stderr",
     "output_type": "stream",
     "text": [
      "D:\\7agat msh bafta7ha\\Anaconda Last Directory\\lib\\site-packages\\seaborn\\distributions.py:2619: FutureWarning: `distplot` is a deprecated function and will be removed in a future version. Please adapt your code to use either `displot` (a figure-level function with similar flexibility) or `histplot` (an axes-level function for histograms).\n",
      "  warnings.warn(msg, FutureWarning)\n"
     ]
    },
    {
     "data": {
      "text/plain": [
       "<AxesSubplot:xlabel='ap_hi', ylabel='Density'>"
      ]
     },
     "execution_count": 404,
     "metadata": {},
     "output_type": "execute_result"
    },
    {
     "data": {
      "image/png": "[encoded data removed]",
      "text/plain": [
       "<Figure size 432x288 with 1 Axes>"
      ]
     },
     "metadata": {
      "needs_background": "light"
     },
     "output_type": "display_data"
    }
   ],
   "source": [
    "sns.distplot(df[\"ap_hi\"])"
   ]
  },
  {
   "cell_type": "code",
   "execution_count": 405,
   "id": "326aa37b",
   "metadata": {
    "scrolled": true
   },
   "outputs": [
    {
     "data": {
      "image/png": "[encoded data removed]",
      "text/plain": [
       "<Figure size 432x288 with 1 Axes>"
      ]
     },
     "metadata": {
      "needs_background": "light"
     },
     "output_type": "display_data"
    }
   ],
   "source": [
    "figure = df.boxplot(column=\"ap_hi\")"
   ]
  },
  {
   "cell_type": "code",
   "execution_count": 529,
   "id": "891e7890",
   "metadata": {
    "scrolled": true
   },
   "outputs": [
    {
     "name": "stderr",
     "output_type": "stream",
     "text": [
      "D:\\7agat msh bafta7ha\\Anaconda Last Directory\\lib\\site-packages\\seaborn\\distributions.py:2619: FutureWarning: `distplot` is a deprecated function and will be removed in a future version. Please adapt your code to use either `displot` (a figure-level function with similar flexibility) or `histplot` (an axes-level function for histograms).\n",
      "  warnings.warn(msg, FutureWarning)\n"
     ]
    },
    {
     "data": {
      "text/plain": [
       "<AxesSubplot:xlabel='ap_lo', ylabel='Density'>"
      ]
     },
     "execution_count": 529,
     "metadata": {},
     "output_type": "execute_result"
    },
    {
     "data": {
      "image/png": "[encoded data removed]",
      "text/plain": [
       "<Figure size 432x288 with 1 Axes>"
      ]
     },
     "metadata": {
      "needs_background": "light"
     },
     "output_type": "display_data"
    }
   ],
   "source": [
    "sns.distplot(df[\"ap_lo\"])"
   ]
  },
  {
   "cell_type": "code",
   "execution_count": 407,
   "id": "fe556020",
   "metadata": {
    "scrolled": true
   },
   "outputs": [
    {
     "data": {
      "image/png": "[encoded data removed]",
      "text/plain": [
       "<Figure size 432x288 with 1 Axes>"
      ]
     },
     "metadata": {
      "needs_background": "light"
     },
     "output_type": "display_data"
    }
   ],
   "source": [
    "figure = df.boxplot(column=\"ap_lo\")"
   ]
  },
  {
   "cell_type": "markdown",
   "id": "78f8b11d",
   "metadata": {},
   "source": [
    "# Dealing with outliers"
   ]
  },
  {
   "cell_type": "markdown",
   "id": "6f111ac6",
   "metadata": {},
   "source": [
    "## (1) Age Column"
   ]
  },
  {
   "cell_type": "code",
   "execution_count": 408,
   "id": "6b5d3ae3",
   "metadata": {},
   "outputs": [
    {
     "data": {
      "text/html": [
       "<div>\n",
       "<style scoped>\n",
       "    .dataframe tbody tr th:only-of-type {\n",
       "        vertical-align: middle;\n",
       "    }\n",
       "\n",
       "    .dataframe tbody tr th {\n",
       "        vertical-align: top;\n",
       "    }\n",
       "\n",
       "    .dataframe thead th {\n",
       "        text-align: right;\n",
       "    }\n",
       "</style>\n",
       "<table border=\"1\" class=\"dataframe\">\n",
       "  <thead>\n",
       "    <tr style=\"text-align: right;\">\n",
       "      <th></th>\n",
       "      <th>age</th>\n",
       "      <th>gender</th>\n",
       "      <th>height</th>\n",
       "      <th>weight</th>\n",
       "      <th>ap_hi</th>\n",
       "      <th>ap_lo</th>\n",
       "      <th>cholesterol</th>\n",
       "      <th>gluc</th>\n",
       "      <th>smoke</th>\n",
       "      <th>alco</th>\n",
       "      <th>active</th>\n",
       "      <th>cardio</th>\n",
       "    </tr>\n",
       "  </thead>\n",
       "  <tbody>\n",
       "    <tr>\n",
       "      <th>5520</th>\n",
       "      <td>30</td>\n",
       "      <td>1</td>\n",
       "      <td>175</td>\n",
       "      <td>59.0</td>\n",
       "      <td>120</td>\n",
       "      <td>80</td>\n",
       "      <td>1</td>\n",
       "      <td>1</td>\n",
       "      <td>0</td>\n",
       "      <td>0</td>\n",
       "      <td>1</td>\n",
       "      <td>0</td>\n",
       "    </tr>\n",
       "    <tr>\n",
       "      <th>21644</th>\n",
       "      <td>30</td>\n",
       "      <td>2</td>\n",
       "      <td>175</td>\n",
       "      <td>92.0</td>\n",
       "      <td>100</td>\n",
       "      <td>60</td>\n",
       "      <td>1</td>\n",
       "      <td>1</td>\n",
       "      <td>0</td>\n",
       "      <td>0</td>\n",
       "      <td>1</td>\n",
       "      <td>0</td>\n",
       "    </tr>\n",
       "    <tr>\n",
       "      <th>29967</th>\n",
       "      <td>30</td>\n",
       "      <td>1</td>\n",
       "      <td>159</td>\n",
       "      <td>59.0</td>\n",
       "      <td>120</td>\n",
       "      <td>80</td>\n",
       "      <td>1</td>\n",
       "      <td>1</td>\n",
       "      <td>0</td>\n",
       "      <td>0</td>\n",
       "      <td>1</td>\n",
       "      <td>0</td>\n",
       "    </tr>\n",
       "    <tr>\n",
       "      <th>55206</th>\n",
       "      <td>30</td>\n",
       "      <td>1</td>\n",
       "      <td>160</td>\n",
       "      <td>59.0</td>\n",
       "      <td>110</td>\n",
       "      <td>70</td>\n",
       "      <td>1</td>\n",
       "      <td>1</td>\n",
       "      <td>0</td>\n",
       "      <td>0</td>\n",
       "      <td>1</td>\n",
       "      <td>0</td>\n",
       "    </tr>\n",
       "  </tbody>\n",
       "</table>\n",
       "</div>"
      ],
      "text/plain": [
       "       age  gender  height  weight  ap_hi  ap_lo  cholesterol  gluc  smoke  \\\n",
       "5520    30       1     175    59.0    120     80            1     1      0   \n",
       "21644   30       2     175    92.0    100     60            1     1      0   \n",
       "29967   30       1     159    59.0    120     80            1     1      0   \n",
       "55206   30       1     160    59.0    110     70            1     1      0   \n",
       "\n",
       "       alco  active  cardio  \n",
       "5520      0       1       0  \n",
       "21644     0       1       0  \n",
       "29967     0       1       0  \n",
       "55206     0       1       0  "
      ]
     },
     "execution_count": 408,
     "metadata": {},
     "output_type": "execute_result"
    }
   ],
   "source": [
    "age_outliers = df[df[\"age\"]<35]\n",
    "age_outliers"
   ]
  },
  {
   "cell_type": "code",
   "execution_count": 409,
   "id": "9f966ac1",
   "metadata": {},
   "outputs": [
    {
     "data": {
      "text/plain": [
       "53.30282777833913"
      ]
     },
     "execution_count": 409,
     "metadata": {},
     "output_type": "execute_result"
    }
   ],
   "source": [
    "age_mean = df[\"age\"].mean()\n",
    "age_mean"
   ]
  },
  {
   "cell_type": "markdown",
   "id": "709925ae",
   "metadata": {},
   "source": [
    "#### I think they are not affecting outliers so we can keep them"
   ]
  },
  {
   "cell_type": "markdown",
   "id": "9b727aed",
   "metadata": {},
   "source": [
    "## (2) height Column"
   ]
  },
  {
   "cell_type": "code",
   "execution_count": 410,
   "id": "425362eb",
   "metadata": {},
   "outputs": [
    {
     "data": {
      "text/html": [
       "<div>\n",
       "<style scoped>\n",
       "    .dataframe tbody tr th:only-of-type {\n",
       "        vertical-align: middle;\n",
       "    }\n",
       "\n",
       "    .dataframe tbody tr th {\n",
       "        vertical-align: top;\n",
       "    }\n",
       "\n",
       "    .dataframe thead th {\n",
       "        text-align: right;\n",
       "    }\n",
       "</style>\n",
       "<table border=\"1\" class=\"dataframe\">\n",
       "  <thead>\n",
       "    <tr style=\"text-align: right;\">\n",
       "      <th></th>\n",
       "      <th>age</th>\n",
       "      <th>gender</th>\n",
       "      <th>height</th>\n",
       "      <th>weight</th>\n",
       "      <th>ap_hi</th>\n",
       "      <th>ap_lo</th>\n",
       "      <th>cholesterol</th>\n",
       "      <th>gluc</th>\n",
       "      <th>smoke</th>\n",
       "      <th>alco</th>\n",
       "      <th>active</th>\n",
       "      <th>cardio</th>\n",
       "    </tr>\n",
       "  </thead>\n",
       "  <tbody>\n",
       "    <tr>\n",
       "      <th>5787</th>\n",
       "      <td>58</td>\n",
       "      <td>1</td>\n",
       "      <td>250</td>\n",
       "      <td>86.0</td>\n",
       "      <td>140</td>\n",
       "      <td>100</td>\n",
       "      <td>3</td>\n",
       "      <td>1</td>\n",
       "      <td>0</td>\n",
       "      <td>0</td>\n",
       "      <td>1</td>\n",
       "      <td>1</td>\n",
       "    </tr>\n",
       "  </tbody>\n",
       "</table>\n",
       "</div>"
      ],
      "text/plain": [
       "      age  gender  height  weight  ap_hi  ap_lo  cholesterol  gluc  smoke  \\\n",
       "5787   58       1     250    86.0    140    100            3     1      0   \n",
       "\n",
       "      alco  active  cardio  \n",
       "5787     0       1       1  "
      ]
     },
     "execution_count": 410,
     "metadata": {},
     "output_type": "execute_result"
    }
   ],
   "source": [
    "height_outliers = df[df[\"height\"]>225]\n",
    "height_outliers"
   ]
  },
  {
   "cell_type": "code",
   "execution_count": 411,
   "id": "4594bf3d",
   "metadata": {},
   "outputs": [
    {
     "data": {
      "text/plain": [
       "164.3621403929154"
      ]
     },
     "execution_count": 411,
     "metadata": {},
     "output_type": "execute_result"
    }
   ],
   "source": [
    "height_mean = df[\"height\"].mean()\n",
    "height_mean"
   ]
  },
  {
   "cell_type": "markdown",
   "id": "9dd0e1bc",
   "metadata": {},
   "source": [
    "#### I think they are not affecting outliers so we can keep them as the man's age is 58 so it is logic to be tall"
   ]
  },
  {
   "cell_type": "markdown",
   "id": "04473561",
   "metadata": {},
   "source": [
    "## (3) weight Column"
   ]
  },
  {
   "cell_type": "code",
   "execution_count": 412,
   "id": "696f01b4",
   "metadata": {},
   "outputs": [
    {
     "data": {
      "text/html": [
       "<div>\n",
       "<style scoped>\n",
       "    .dataframe tbody tr th:only-of-type {\n",
       "        vertical-align: middle;\n",
       "    }\n",
       "\n",
       "    .dataframe tbody tr th {\n",
       "        vertical-align: top;\n",
       "    }\n",
       "\n",
       "    .dataframe thead th {\n",
       "        text-align: right;\n",
       "    }\n",
       "</style>\n",
       "<table border=\"1\" class=\"dataframe\">\n",
       "  <thead>\n",
       "    <tr style=\"text-align: right;\">\n",
       "      <th></th>\n",
       "      <th>age</th>\n",
       "      <th>gender</th>\n",
       "      <th>height</th>\n",
       "      <th>weight</th>\n",
       "      <th>ap_hi</th>\n",
       "      <th>ap_lo</th>\n",
       "      <th>cholesterol</th>\n",
       "      <th>gluc</th>\n",
       "      <th>smoke</th>\n",
       "      <th>alco</th>\n",
       "      <th>active</th>\n",
       "      <th>cardio</th>\n",
       "    </tr>\n",
       "  </thead>\n",
       "  <tbody>\n",
       "    <tr>\n",
       "      <th>26107</th>\n",
       "      <td>64</td>\n",
       "      <td>1</td>\n",
       "      <td>157</td>\n",
       "      <td>23.0</td>\n",
       "      <td>110</td>\n",
       "      <td>80</td>\n",
       "      <td>1</td>\n",
       "      <td>1</td>\n",
       "      <td>0</td>\n",
       "      <td>0</td>\n",
       "      <td>1</td>\n",
       "      <td>0</td>\n",
       "    </tr>\n",
       "    <tr>\n",
       "      <th>28789</th>\n",
       "      <td>56</td>\n",
       "      <td>2</td>\n",
       "      <td>177</td>\n",
       "      <td>22.0</td>\n",
       "      <td>120</td>\n",
       "      <td>80</td>\n",
       "      <td>1</td>\n",
       "      <td>1</td>\n",
       "      <td>1</td>\n",
       "      <td>1</td>\n",
       "      <td>1</td>\n",
       "      <td>0</td>\n",
       "    </tr>\n",
       "    <tr>\n",
       "      <th>33118</th>\n",
       "      <td>59</td>\n",
       "      <td>2</td>\n",
       "      <td>178</td>\n",
       "      <td>11.0</td>\n",
       "      <td>130</td>\n",
       "      <td>90</td>\n",
       "      <td>1</td>\n",
       "      <td>1</td>\n",
       "      <td>0</td>\n",
       "      <td>0</td>\n",
       "      <td>1</td>\n",
       "      <td>1</td>\n",
       "    </tr>\n",
       "    <tr>\n",
       "      <th>57159</th>\n",
       "      <td>51</td>\n",
       "      <td>2</td>\n",
       "      <td>165</td>\n",
       "      <td>10.0</td>\n",
       "      <td>180</td>\n",
       "      <td>1100</td>\n",
       "      <td>2</td>\n",
       "      <td>2</td>\n",
       "      <td>0</td>\n",
       "      <td>0</td>\n",
       "      <td>1</td>\n",
       "      <td>1</td>\n",
       "    </tr>\n",
       "    <tr>\n",
       "      <th>59489</th>\n",
       "      <td>60</td>\n",
       "      <td>1</td>\n",
       "      <td>162</td>\n",
       "      <td>21.0</td>\n",
       "      <td>120</td>\n",
       "      <td>80</td>\n",
       "      <td>2</td>\n",
       "      <td>1</td>\n",
       "      <td>0</td>\n",
       "      <td>0</td>\n",
       "      <td>1</td>\n",
       "      <td>1</td>\n",
       "    </tr>\n",
       "  </tbody>\n",
       "</table>\n",
       "</div>"
      ],
      "text/plain": [
       "       age  gender  height  weight  ap_hi  ap_lo  cholesterol  gluc  smoke  \\\n",
       "26107   64       1     157    23.0    110     80            1     1      0   \n",
       "28789   56       2     177    22.0    120     80            1     1      1   \n",
       "33118   59       2     178    11.0    130     90            1     1      0   \n",
       "57159   51       2     165    10.0    180   1100            2     2      0   \n",
       "59489   60       1     162    21.0    120     80            2     1      0   \n",
       "\n",
       "       alco  active  cardio  \n",
       "26107     0       1       0  \n",
       "28789     1       1       0  \n",
       "33118     0       1       1  \n",
       "57159     0       1       1  \n",
       "59489     0       1       1  "
      ]
     },
     "execution_count": 412,
     "metadata": {},
     "output_type": "execute_result"
    }
   ],
   "source": [
    "weight_outliers = df[df[\"weight\"]<25]\n",
    "weight_outliers"
   ]
  },
  {
   "cell_type": "code",
   "execution_count": 413,
   "id": "f4cccec2",
   "metadata": {},
   "outputs": [
    {
     "data": {
      "text/plain": [
       "74.20588362660047"
      ]
     },
     "execution_count": 413,
     "metadata": {},
     "output_type": "execute_result"
    }
   ],
   "source": [
    "weight_mean = df[\"weight\"].mean()\n",
    "weight_mean"
   ]
  },
  {
   "cell_type": "code",
   "execution_count": 414,
   "id": "d69569f0",
   "metadata": {},
   "outputs": [],
   "source": [
    "df.loc[df[\"weight\"]<25,\"weight\"] = weight_mean"
   ]
  },
  {
   "cell_type": "code",
   "execution_count": 415,
   "id": "bac61294",
   "metadata": {},
   "outputs": [
    {
     "data": {
      "image/png": "[encoded data removed]",
      "text/plain": [
       "<Figure size 432x288 with 1 Axes>"
      ]
     },
     "metadata": {
      "needs_background": "light"
     },
     "output_type": "display_data"
    }
   ],
   "source": [
    "figure = df.boxplot(column=\"weight\")"
   ]
  },
  {
   "cell_type": "markdown",
   "id": "161ba6c3",
   "metadata": {},
   "source": [
    "#### I converted adults with weight less than 25 kg to the average weight as it is impossible that an adult be less than 25 kg"
   ]
  },
  {
   "cell_type": "markdown",
   "id": "343eea1c",
   "metadata": {},
   "source": [
    "## (4) Systolic blood pressure  ap_hi Column "
   ]
  },
  {
   "cell_type": "code",
   "execution_count": 416,
   "id": "fe9aecbc",
   "metadata": {
    "scrolled": true
   },
   "outputs": [
    {
     "data": {
      "text/html": [
       "<div>\n",
       "<style scoped>\n",
       "    .dataframe tbody tr th:only-of-type {\n",
       "        vertical-align: middle;\n",
       "    }\n",
       "\n",
       "    .dataframe tbody tr th {\n",
       "        vertical-align: top;\n",
       "    }\n",
       "\n",
       "    .dataframe thead th {\n",
       "        text-align: right;\n",
       "    }\n",
       "</style>\n",
       "<table border=\"1\" class=\"dataframe\">\n",
       "  <thead>\n",
       "    <tr style=\"text-align: right;\">\n",
       "      <th></th>\n",
       "      <th>age</th>\n",
       "      <th>gender</th>\n",
       "      <th>height</th>\n",
       "      <th>weight</th>\n",
       "      <th>ap_hi</th>\n",
       "      <th>ap_lo</th>\n",
       "      <th>cholesterol</th>\n",
       "      <th>gluc</th>\n",
       "      <th>smoke</th>\n",
       "      <th>alco</th>\n",
       "      <th>active</th>\n",
       "      <th>cardio</th>\n",
       "    </tr>\n",
       "  </thead>\n",
       "  <tbody>\n",
       "    <tr>\n",
       "      <th>154</th>\n",
       "      <td>58</td>\n",
       "      <td>1</td>\n",
       "      <td>166</td>\n",
       "      <td>92.0</td>\n",
       "      <td>180</td>\n",
       "      <td>110</td>\n",
       "      <td>1</td>\n",
       "      <td>1</td>\n",
       "      <td>0</td>\n",
       "      <td>0</td>\n",
       "      <td>1</td>\n",
       "      <td>1</td>\n",
       "    </tr>\n",
       "    <tr>\n",
       "      <th>266</th>\n",
       "      <td>54</td>\n",
       "      <td>1</td>\n",
       "      <td>155</td>\n",
       "      <td>83.0</td>\n",
       "      <td>190</td>\n",
       "      <td>90</td>\n",
       "      <td>2</td>\n",
       "      <td>2</td>\n",
       "      <td>0</td>\n",
       "      <td>0</td>\n",
       "      <td>1</td>\n",
       "      <td>1</td>\n",
       "    </tr>\n",
       "    <tr>\n",
       "      <th>311</th>\n",
       "      <td>42</td>\n",
       "      <td>1</td>\n",
       "      <td>163</td>\n",
       "      <td>76.0</td>\n",
       "      <td>180</td>\n",
       "      <td>100</td>\n",
       "      <td>1</td>\n",
       "      <td>1</td>\n",
       "      <td>0</td>\n",
       "      <td>0</td>\n",
       "      <td>1</td>\n",
       "      <td>1</td>\n",
       "    </tr>\n",
       "    <tr>\n",
       "      <th>571</th>\n",
       "      <td>52</td>\n",
       "      <td>2</td>\n",
       "      <td>175</td>\n",
       "      <td>150.0</td>\n",
       "      <td>180</td>\n",
       "      <td>120</td>\n",
       "      <td>2</td>\n",
       "      <td>1</td>\n",
       "      <td>0</td>\n",
       "      <td>1</td>\n",
       "      <td>1</td>\n",
       "      <td>1</td>\n",
       "    </tr>\n",
       "    <tr>\n",
       "      <th>692</th>\n",
       "      <td>57</td>\n",
       "      <td>1</td>\n",
       "      <td>158</td>\n",
       "      <td>59.0</td>\n",
       "      <td>180</td>\n",
       "      <td>90</td>\n",
       "      <td>1</td>\n",
       "      <td>1</td>\n",
       "      <td>0</td>\n",
       "      <td>0</td>\n",
       "      <td>1</td>\n",
       "      <td>1</td>\n",
       "    </tr>\n",
       "    <tr>\n",
       "      <th>...</th>\n",
       "      <td>...</td>\n",
       "      <td>...</td>\n",
       "      <td>...</td>\n",
       "      <td>...</td>\n",
       "      <td>...</td>\n",
       "      <td>...</td>\n",
       "      <td>...</td>\n",
       "      <td>...</td>\n",
       "      <td>...</td>\n",
       "      <td>...</td>\n",
       "      <td>...</td>\n",
       "      <td>...</td>\n",
       "    </tr>\n",
       "    <tr>\n",
       "      <th>68888</th>\n",
       "      <td>64</td>\n",
       "      <td>1</td>\n",
       "      <td>169</td>\n",
       "      <td>101.0</td>\n",
       "      <td>180</td>\n",
       "      <td>110</td>\n",
       "      <td>1</td>\n",
       "      <td>1</td>\n",
       "      <td>0</td>\n",
       "      <td>0</td>\n",
       "      <td>0</td>\n",
       "      <td>1</td>\n",
       "    </tr>\n",
       "    <tr>\n",
       "      <th>68894</th>\n",
       "      <td>46</td>\n",
       "      <td>2</td>\n",
       "      <td>179</td>\n",
       "      <td>93.0</td>\n",
       "      <td>180</td>\n",
       "      <td>100</td>\n",
       "      <td>1</td>\n",
       "      <td>2</td>\n",
       "      <td>0</td>\n",
       "      <td>1</td>\n",
       "      <td>1</td>\n",
       "      <td>1</td>\n",
       "    </tr>\n",
       "    <tr>\n",
       "      <th>69131</th>\n",
       "      <td>62</td>\n",
       "      <td>2</td>\n",
       "      <td>163</td>\n",
       "      <td>67.0</td>\n",
       "      <td>180</td>\n",
       "      <td>100</td>\n",
       "      <td>2</td>\n",
       "      <td>1</td>\n",
       "      <td>0</td>\n",
       "      <td>0</td>\n",
       "      <td>0</td>\n",
       "      <td>1</td>\n",
       "    </tr>\n",
       "    <tr>\n",
       "      <th>69195</th>\n",
       "      <td>46</td>\n",
       "      <td>1</td>\n",
       "      <td>160</td>\n",
       "      <td>70.0</td>\n",
       "      <td>200</td>\n",
       "      <td>100</td>\n",
       "      <td>1</td>\n",
       "      <td>2</td>\n",
       "      <td>0</td>\n",
       "      <td>0</td>\n",
       "      <td>1</td>\n",
       "      <td>1</td>\n",
       "    </tr>\n",
       "    <tr>\n",
       "      <th>69298</th>\n",
       "      <td>52</td>\n",
       "      <td>2</td>\n",
       "      <td>183</td>\n",
       "      <td>105.0</td>\n",
       "      <td>180</td>\n",
       "      <td>90</td>\n",
       "      <td>3</td>\n",
       "      <td>1</td>\n",
       "      <td>0</td>\n",
       "      <td>1</td>\n",
       "      <td>0</td>\n",
       "      <td>1</td>\n",
       "    </tr>\n",
       "  </tbody>\n",
       "</table>\n",
       "<p>910 rows × 12 columns</p>\n",
       "</div>"
      ],
      "text/plain": [
       "       age  gender  height  weight  ap_hi  ap_lo  cholesterol  gluc  smoke  \\\n",
       "154     58       1     166    92.0    180    110            1     1      0   \n",
       "266     54       1     155    83.0    190     90            2     2      0   \n",
       "311     42       1     163    76.0    180    100            1     1      0   \n",
       "571     52       2     175   150.0    180    120            2     1      0   \n",
       "692     57       1     158    59.0    180     90            1     1      0   \n",
       "...    ...     ...     ...     ...    ...    ...          ...   ...    ...   \n",
       "68888   64       1     169   101.0    180    110            1     1      0   \n",
       "68894   46       2     179    93.0    180    100            1     2      0   \n",
       "69131   62       2     163    67.0    180    100            2     1      0   \n",
       "69195   46       1     160    70.0    200    100            1     2      0   \n",
       "69298   52       2     183   105.0    180     90            3     1      0   \n",
       "\n",
       "       alco  active  cardio  \n",
       "154       0       1       1  \n",
       "266       0       1       1  \n",
       "311       0       1       1  \n",
       "571       1       1       1  \n",
       "692       0       1       1  \n",
       "...     ...     ...     ...  \n",
       "68888     0       0       1  \n",
       "68894     1       1       1  \n",
       "69131     0       0       1  \n",
       "69195     0       1       1  \n",
       "69298     1       0       1  \n",
       "\n",
       "[910 rows x 12 columns]"
      ]
     },
     "execution_count": 416,
     "metadata": {},
     "output_type": "execute_result"
    }
   ],
   "source": [
    "ap_hi_outliers_180 = df[(df[\"ap_hi\"]>=180) & (df[\"cardio\"]==1)]\n",
    "ap_hi_outliers_180"
   ]
  },
  {
   "cell_type": "code",
   "execution_count": 417,
   "id": "0b74b274",
   "metadata": {},
   "outputs": [],
   "source": [
    "#sns.scatterplot(data = ap_hi_outliers[\"ap_hi\"])"
   ]
  },
  {
   "cell_type": "code",
   "execution_count": 418,
   "id": "614f7776",
   "metadata": {},
   "outputs": [
    {
     "data": {
      "text/plain": [
       "128.8327872165365"
      ]
     },
     "execution_count": 418,
     "metadata": {},
     "output_type": "execute_result"
    }
   ],
   "source": [
    "ap_hi_mean = df[\"ap_hi\"].mean()\n",
    "ap_hi_mean"
   ]
  },
  {
   "cell_type": "code",
   "execution_count": 419,
   "id": "c21972b4",
   "metadata": {},
   "outputs": [],
   "source": [
    "df.loc[(df[\"ap_hi\"]>=180) & (df[\"cardio\"]==1),\"ap_hi\"] = 180"
   ]
  },
  {
   "cell_type": "code",
   "execution_count": 420,
   "id": "1e0a90a8",
   "metadata": {
    "scrolled": true
   },
   "outputs": [
    {
     "data": {
      "text/html": [
       "<div>\n",
       "<style scoped>\n",
       "    .dataframe tbody tr th:only-of-type {\n",
       "        vertical-align: middle;\n",
       "    }\n",
       "\n",
       "    .dataframe tbody tr th {\n",
       "        vertical-align: top;\n",
       "    }\n",
       "\n",
       "    .dataframe thead th {\n",
       "        text-align: right;\n",
       "    }\n",
       "</style>\n",
       "<table border=\"1\" class=\"dataframe\">\n",
       "  <thead>\n",
       "    <tr style=\"text-align: right;\">\n",
       "      <th></th>\n",
       "      <th>age</th>\n",
       "      <th>gender</th>\n",
       "      <th>height</th>\n",
       "      <th>weight</th>\n",
       "      <th>ap_hi</th>\n",
       "      <th>ap_lo</th>\n",
       "      <th>cholesterol</th>\n",
       "      <th>gluc</th>\n",
       "      <th>smoke</th>\n",
       "      <th>alco</th>\n",
       "      <th>active</th>\n",
       "      <th>cardio</th>\n",
       "    </tr>\n",
       "  </thead>\n",
       "  <tbody>\n",
       "    <tr>\n",
       "      <th>280</th>\n",
       "      <td>50</td>\n",
       "      <td>1</td>\n",
       "      <td>172</td>\n",
       "      <td>65.0</td>\n",
       "      <td>11</td>\n",
       "      <td>80</td>\n",
       "      <td>1</td>\n",
       "      <td>3</td>\n",
       "      <td>0</td>\n",
       "      <td>0</td>\n",
       "      <td>1</td>\n",
       "      <td>0</td>\n",
       "    </tr>\n",
       "    <tr>\n",
       "      <th>901</th>\n",
       "      <td>53</td>\n",
       "      <td>1</td>\n",
       "      <td>165</td>\n",
       "      <td>66.0</td>\n",
       "      <td>12</td>\n",
       "      <td>80</td>\n",
       "      <td>1</td>\n",
       "      <td>1</td>\n",
       "      <td>0</td>\n",
       "      <td>0</td>\n",
       "      <td>1</td>\n",
       "      <td>0</td>\n",
       "    </tr>\n",
       "    <tr>\n",
       "      <th>1073</th>\n",
       "      <td>39</td>\n",
       "      <td>2</td>\n",
       "      <td>168</td>\n",
       "      <td>64.0</td>\n",
       "      <td>11</td>\n",
       "      <td>60</td>\n",
       "      <td>1</td>\n",
       "      <td>1</td>\n",
       "      <td>1</td>\n",
       "      <td>1</td>\n",
       "      <td>1</td>\n",
       "      <td>0</td>\n",
       "    </tr>\n",
       "    <tr>\n",
       "      <th>1504</th>\n",
       "      <td>60</td>\n",
       "      <td>2</td>\n",
       "      <td>187</td>\n",
       "      <td>80.0</td>\n",
       "      <td>12</td>\n",
       "      <td>80</td>\n",
       "      <td>1</td>\n",
       "      <td>1</td>\n",
       "      <td>1</td>\n",
       "      <td>0</td>\n",
       "      <td>1</td>\n",
       "      <td>0</td>\n",
       "    </tr>\n",
       "    <tr>\n",
       "      <th>1829</th>\n",
       "      <td>42</td>\n",
       "      <td>1</td>\n",
       "      <td>163</td>\n",
       "      <td>86.0</td>\n",
       "      <td>12</td>\n",
       "      <td>80</td>\n",
       "      <td>1</td>\n",
       "      <td>1</td>\n",
       "      <td>0</td>\n",
       "      <td>0</td>\n",
       "      <td>0</td>\n",
       "      <td>0</td>\n",
       "    </tr>\n",
       "    <tr>\n",
       "      <th>...</th>\n",
       "      <td>...</td>\n",
       "      <td>...</td>\n",
       "      <td>...</td>\n",
       "      <td>...</td>\n",
       "      <td>...</td>\n",
       "      <td>...</td>\n",
       "      <td>...</td>\n",
       "      <td>...</td>\n",
       "      <td>...</td>\n",
       "      <td>...</td>\n",
       "      <td>...</td>\n",
       "      <td>...</td>\n",
       "    </tr>\n",
       "    <tr>\n",
       "      <th>67248</th>\n",
       "      <td>45</td>\n",
       "      <td>2</td>\n",
       "      <td>170</td>\n",
       "      <td>81.0</td>\n",
       "      <td>12</td>\n",
       "      <td>80</td>\n",
       "      <td>1</td>\n",
       "      <td>1</td>\n",
       "      <td>0</td>\n",
       "      <td>0</td>\n",
       "      <td>0</td>\n",
       "      <td>0</td>\n",
       "    </tr>\n",
       "    <tr>\n",
       "      <th>67756</th>\n",
       "      <td>60</td>\n",
       "      <td>1</td>\n",
       "      <td>165</td>\n",
       "      <td>63.0</td>\n",
       "      <td>12</td>\n",
       "      <td>80</td>\n",
       "      <td>1</td>\n",
       "      <td>1</td>\n",
       "      <td>0</td>\n",
       "      <td>0</td>\n",
       "      <td>1</td>\n",
       "      <td>0</td>\n",
       "    </tr>\n",
       "    <tr>\n",
       "      <th>67931</th>\n",
       "      <td>58</td>\n",
       "      <td>1</td>\n",
       "      <td>160</td>\n",
       "      <td>59.0</td>\n",
       "      <td>12</td>\n",
       "      <td>80</td>\n",
       "      <td>1</td>\n",
       "      <td>1</td>\n",
       "      <td>0</td>\n",
       "      <td>0</td>\n",
       "      <td>1</td>\n",
       "      <td>0</td>\n",
       "    </tr>\n",
       "    <tr>\n",
       "      <th>68299</th>\n",
       "      <td>52</td>\n",
       "      <td>1</td>\n",
       "      <td>154</td>\n",
       "      <td>77.0</td>\n",
       "      <td>14</td>\n",
       "      <td>90</td>\n",
       "      <td>1</td>\n",
       "      <td>1</td>\n",
       "      <td>0</td>\n",
       "      <td>0</td>\n",
       "      <td>1</td>\n",
       "      <td>0</td>\n",
       "    </tr>\n",
       "    <tr>\n",
       "      <th>68438</th>\n",
       "      <td>42</td>\n",
       "      <td>2</td>\n",
       "      <td>176</td>\n",
       "      <td>65.0</td>\n",
       "      <td>12</td>\n",
       "      <td>80</td>\n",
       "      <td>1</td>\n",
       "      <td>1</td>\n",
       "      <td>0</td>\n",
       "      <td>0</td>\n",
       "      <td>1</td>\n",
       "      <td>0</td>\n",
       "    </tr>\n",
       "  </tbody>\n",
       "</table>\n",
       "<p>94 rows × 12 columns</p>\n",
       "</div>"
      ],
      "text/plain": [
       "       age  gender  height  weight  ap_hi  ap_lo  cholesterol  gluc  smoke  \\\n",
       "280     50       1     172    65.0     11     80            1     3      0   \n",
       "901     53       1     165    66.0     12     80            1     1      0   \n",
       "1073    39       2     168    64.0     11     60            1     1      1   \n",
       "1504    60       2     187    80.0     12     80            1     1      1   \n",
       "1829    42       1     163    86.0     12     80            1     1      0   \n",
       "...    ...     ...     ...     ...    ...    ...          ...   ...    ...   \n",
       "67248   45       2     170    81.0     12     80            1     1      0   \n",
       "67756   60       1     165    63.0     12     80            1     1      0   \n",
       "67931   58       1     160    59.0     12     80            1     1      0   \n",
       "68299   52       1     154    77.0     14     90            1     1      0   \n",
       "68438   42       2     176    65.0     12     80            1     1      0   \n",
       "\n",
       "       alco  active  cardio  \n",
       "280       0       1       0  \n",
       "901       0       1       0  \n",
       "1073      1       1       0  \n",
       "1504      0       1       0  \n",
       "1829      0       0       0  \n",
       "...     ...     ...     ...  \n",
       "67248     0       0       0  \n",
       "67756     0       1       0  \n",
       "67931     0       1       0  \n",
       "68299     0       1       0  \n",
       "68438     0       1       0  \n",
       "\n",
       "[94 rows x 12 columns]"
      ]
     },
     "execution_count": 420,
     "metadata": {},
     "output_type": "execute_result"
    }
   ],
   "source": [
    "ap_hi_outliers_45 = df[(df[\"ap_hi\"]<45) & (df[\"cardio\"]==0)]\n",
    "ap_hi_outliers_45"
   ]
  },
  {
   "cell_type": "code",
   "execution_count": 421,
   "id": "651856da",
   "metadata": {
    "scrolled": true
   },
   "outputs": [
    {
     "data": {
      "image/png": "[encoded data removed]",
      "text/plain": [
       "<Figure size 432x288 with 1 Axes>"
      ]
     },
     "metadata": {
      "needs_background": "light"
     },
     "output_type": "display_data"
    }
   ],
   "source": [
    "figure = df.boxplot(column=\"ap_hi\")"
   ]
  },
  {
   "cell_type": "code",
   "execution_count": 422,
   "id": "03809b65",
   "metadata": {
    "scrolled": true
   },
   "outputs": [
    {
     "data": {
      "text/html": [
       "<div>\n",
       "<style scoped>\n",
       "    .dataframe tbody tr th:only-of-type {\n",
       "        vertical-align: middle;\n",
       "    }\n",
       "\n",
       "    .dataframe tbody tr th {\n",
       "        vertical-align: top;\n",
       "    }\n",
       "\n",
       "    .dataframe thead th {\n",
       "        text-align: right;\n",
       "    }\n",
       "</style>\n",
       "<table border=\"1\" class=\"dataframe\">\n",
       "  <thead>\n",
       "    <tr style=\"text-align: right;\">\n",
       "      <th></th>\n",
       "      <th>age</th>\n",
       "      <th>gender</th>\n",
       "      <th>height</th>\n",
       "      <th>weight</th>\n",
       "      <th>ap_hi</th>\n",
       "      <th>ap_lo</th>\n",
       "      <th>cholesterol</th>\n",
       "      <th>gluc</th>\n",
       "      <th>smoke</th>\n",
       "      <th>alco</th>\n",
       "      <th>active</th>\n",
       "      <th>cardio</th>\n",
       "    </tr>\n",
       "  </thead>\n",
       "  <tbody>\n",
       "    <tr>\n",
       "      <th>629</th>\n",
       "      <td>58</td>\n",
       "      <td>2</td>\n",
       "      <td>174</td>\n",
       "      <td>106.0</td>\n",
       "      <td>220</td>\n",
       "      <td>120</td>\n",
       "      <td>3</td>\n",
       "      <td>3</td>\n",
       "      <td>0</td>\n",
       "      <td>0</td>\n",
       "      <td>1</td>\n",
       "      <td>0</td>\n",
       "    </tr>\n",
       "    <tr>\n",
       "      <th>1177</th>\n",
       "      <td>41</td>\n",
       "      <td>1</td>\n",
       "      <td>160</td>\n",
       "      <td>60.0</td>\n",
       "      <td>902</td>\n",
       "      <td>60</td>\n",
       "      <td>1</td>\n",
       "      <td>1</td>\n",
       "      <td>0</td>\n",
       "      <td>0</td>\n",
       "      <td>1</td>\n",
       "      <td>0</td>\n",
       "    </tr>\n",
       "    <tr>\n",
       "      <th>1315</th>\n",
       "      <td>62</td>\n",
       "      <td>2</td>\n",
       "      <td>167</td>\n",
       "      <td>59.0</td>\n",
       "      <td>906</td>\n",
       "      <td>0</td>\n",
       "      <td>1</td>\n",
       "      <td>1</td>\n",
       "      <td>0</td>\n",
       "      <td>0</td>\n",
       "      <td>1</td>\n",
       "      <td>0</td>\n",
       "    </tr>\n",
       "    <tr>\n",
       "      <th>3077</th>\n",
       "      <td>64</td>\n",
       "      <td>2</td>\n",
       "      <td>172</td>\n",
       "      <td>90.0</td>\n",
       "      <td>200</td>\n",
       "      <td>100</td>\n",
       "      <td>2</td>\n",
       "      <td>2</td>\n",
       "      <td>0</td>\n",
       "      <td>0</td>\n",
       "      <td>0</td>\n",
       "      <td>0</td>\n",
       "    </tr>\n",
       "    <tr>\n",
       "      <th>3338</th>\n",
       "      <td>44</td>\n",
       "      <td>2</td>\n",
       "      <td>176</td>\n",
       "      <td>85.0</td>\n",
       "      <td>200</td>\n",
       "      <td>120</td>\n",
       "      <td>2</td>\n",
       "      <td>1</td>\n",
       "      <td>1</td>\n",
       "      <td>0</td>\n",
       "      <td>1</td>\n",
       "      <td>0</td>\n",
       "    </tr>\n",
       "    <tr>\n",
       "      <th>...</th>\n",
       "      <td>...</td>\n",
       "      <td>...</td>\n",
       "      <td>...</td>\n",
       "      <td>...</td>\n",
       "      <td>...</td>\n",
       "      <td>...</td>\n",
       "      <td>...</td>\n",
       "      <td>...</td>\n",
       "      <td>...</td>\n",
       "      <td>...</td>\n",
       "      <td>...</td>\n",
       "      <td>...</td>\n",
       "    </tr>\n",
       "    <tr>\n",
       "      <th>64212</th>\n",
       "      <td>46</td>\n",
       "      <td>1</td>\n",
       "      <td>157</td>\n",
       "      <td>78.0</td>\n",
       "      <td>906</td>\n",
       "      <td>60</td>\n",
       "      <td>2</td>\n",
       "      <td>1</td>\n",
       "      <td>0</td>\n",
       "      <td>0</td>\n",
       "      <td>1</td>\n",
       "      <td>0</td>\n",
       "    </tr>\n",
       "    <tr>\n",
       "      <th>65645</th>\n",
       "      <td>54</td>\n",
       "      <td>2</td>\n",
       "      <td>171</td>\n",
       "      <td>59.0</td>\n",
       "      <td>200</td>\n",
       "      <td>100</td>\n",
       "      <td>1</td>\n",
       "      <td>1</td>\n",
       "      <td>1</td>\n",
       "      <td>1</td>\n",
       "      <td>1</td>\n",
       "      <td>0</td>\n",
       "    </tr>\n",
       "    <tr>\n",
       "      <th>67964</th>\n",
       "      <td>50</td>\n",
       "      <td>1</td>\n",
       "      <td>156</td>\n",
       "      <td>41.0</td>\n",
       "      <td>906</td>\n",
       "      <td>0</td>\n",
       "      <td>1</td>\n",
       "      <td>1</td>\n",
       "      <td>0</td>\n",
       "      <td>0</td>\n",
       "      <td>1</td>\n",
       "      <td>0</td>\n",
       "    </tr>\n",
       "    <tr>\n",
       "      <th>68416</th>\n",
       "      <td>56</td>\n",
       "      <td>2</td>\n",
       "      <td>177</td>\n",
       "      <td>108.0</td>\n",
       "      <td>190</td>\n",
       "      <td>90</td>\n",
       "      <td>1</td>\n",
       "      <td>3</td>\n",
       "      <td>1</td>\n",
       "      <td>1</td>\n",
       "      <td>1</td>\n",
       "      <td>0</td>\n",
       "    </tr>\n",
       "    <tr>\n",
       "      <th>68706</th>\n",
       "      <td>56</td>\n",
       "      <td>1</td>\n",
       "      <td>159</td>\n",
       "      <td>60.0</td>\n",
       "      <td>190</td>\n",
       "      <td>120</td>\n",
       "      <td>1</td>\n",
       "      <td>1</td>\n",
       "      <td>0</td>\n",
       "      <td>0</td>\n",
       "      <td>0</td>\n",
       "      <td>0</td>\n",
       "    </tr>\n",
       "  </tbody>\n",
       "</table>\n",
       "<p>61 rows × 12 columns</p>\n",
       "</div>"
      ],
      "text/plain": [
       "       age  gender  height  weight  ap_hi  ap_lo  cholesterol  gluc  smoke  \\\n",
       "629     58       2     174   106.0    220    120            3     3      0   \n",
       "1177    41       1     160    60.0    902     60            1     1      0   \n",
       "1315    62       2     167    59.0    906      0            1     1      0   \n",
       "3077    64       2     172    90.0    200    100            2     2      0   \n",
       "3338    44       2     176    85.0    200    120            2     1      1   \n",
       "...    ...     ...     ...     ...    ...    ...          ...   ...    ...   \n",
       "64212   46       1     157    78.0    906     60            2     1      0   \n",
       "65645   54       2     171    59.0    200    100            1     1      1   \n",
       "67964   50       1     156    41.0    906      0            1     1      0   \n",
       "68416   56       2     177   108.0    190     90            1     3      1   \n",
       "68706   56       1     159    60.0    190    120            1     1      0   \n",
       "\n",
       "       alco  active  cardio  \n",
       "629       0       1       0  \n",
       "1177      0       1       0  \n",
       "1315      0       1       0  \n",
       "3077      0       0       0  \n",
       "3338      0       1       0  \n",
       "...     ...     ...     ...  \n",
       "64212     0       1       0  \n",
       "65645     1       1       0  \n",
       "67964     0       1       0  \n",
       "68416     1       1       0  \n",
       "68706     0       0       0  \n",
       "\n",
       "[61 rows x 12 columns]"
      ]
     },
     "execution_count": 422,
     "metadata": {},
     "output_type": "execute_result"
    }
   ],
   "source": [
    "df[(df[\"ap_hi\"]>180)]"
   ]
  },
  {
   "cell_type": "code",
   "execution_count": 423,
   "id": "8112c431",
   "metadata": {},
   "outputs": [
    {
     "data": {
      "text/plain": [
       "127.15562163488603"
      ]
     },
     "execution_count": 423,
     "metadata": {},
     "output_type": "execute_result"
    }
   ],
   "source": [
    "ap_hi_mean = df[\"ap_hi\"].mean()\n",
    "ap_hi_mean"
   ]
  },
  {
   "cell_type": "code",
   "execution_count": 424,
   "id": "c3be5617",
   "metadata": {},
   "outputs": [],
   "source": [
    "df.loc[(df[\"ap_hi\"]>=180) & (df[\"cardio\"]==0),\"ap_hi\"] = ap_hi_mean"
   ]
  },
  {
   "cell_type": "code",
   "execution_count": 425,
   "id": "9fde729b",
   "metadata": {},
   "outputs": [
    {
     "data": {
      "image/png": "[encoded data removed]",
      "text/plain": [
       "<Figure size 432x288 with 1 Axes>"
      ]
     },
     "metadata": {
      "needs_background": "light"
     },
     "output_type": "display_data"
    }
   ],
   "source": [
    "figure = df.boxplot(column=\"ap_hi\")"
   ]
  },
  {
   "cell_type": "code",
   "execution_count": 426,
   "id": "66247e68",
   "metadata": {},
   "outputs": [],
   "source": [
    "df.loc[(df[\"ap_hi\"]<45) & (df[\"cardio\"]==0),\"ap_hi\"] = 45"
   ]
  },
  {
   "cell_type": "code",
   "execution_count": 427,
   "id": "914a243e",
   "metadata": {},
   "outputs": [
    {
     "data": {
      "text/plain": [
       "126.56220821155857"
      ]
     },
     "execution_count": 427,
     "metadata": {},
     "output_type": "execute_result"
    }
   ],
   "source": [
    "ap_hi_mean = df[\"ap_hi\"].mean()\n",
    "ap_hi_mean"
   ]
  },
  {
   "cell_type": "code",
   "execution_count": 428,
   "id": "7e0c2f68",
   "metadata": {},
   "outputs": [],
   "source": [
    "df.loc[(df[\"ap_hi\"]<45) & (df[\"cardio\"]==1),\"ap_hi\"] = ap_hi_mean"
   ]
  },
  {
   "cell_type": "code",
   "execution_count": 429,
   "id": "d7d24508",
   "metadata": {},
   "outputs": [
    {
     "data": {
      "image/png": "[encoded data removed]",
      "text/plain": [
       "<Figure size 432x288 with 1 Axes>"
      ]
     },
     "metadata": {
      "needs_background": "light"
     },
     "output_type": "display_data"
    }
   ],
   "source": [
    "figure = df.boxplot(column=\"ap_hi\")"
   ]
  },
  {
   "cell_type": "markdown",
   "id": "20f4ff22",
   "metadata": {},
   "source": [
    "#### I converted people with systolic blood preasure more than 180 and cardio 1 to 180, people with more than 180  and cardio 0 to the average, people with less than 45 and cardio 0  to 45 and finally people with less than 45 and cardio 1 to the average."
   ]
  },
  {
   "cell_type": "markdown",
   "id": "c7b4f17b",
   "metadata": {},
   "source": [
    "## (5) Dystolic blood pressure  ap_lo Column "
   ]
  },
  {
   "cell_type": "code",
   "execution_count": 430,
   "id": "ed912976",
   "metadata": {},
   "outputs": [
    {
     "data": {
      "text/html": [
       "<div>\n",
       "<style scoped>\n",
       "    .dataframe tbody tr th:only-of-type {\n",
       "        vertical-align: middle;\n",
       "    }\n",
       "\n",
       "    .dataframe tbody tr th {\n",
       "        vertical-align: top;\n",
       "    }\n",
       "\n",
       "    .dataframe thead th {\n",
       "        text-align: right;\n",
       "    }\n",
       "</style>\n",
       "<table border=\"1\" class=\"dataframe\">\n",
       "  <thead>\n",
       "    <tr style=\"text-align: right;\">\n",
       "      <th></th>\n",
       "      <th>age</th>\n",
       "      <th>gender</th>\n",
       "      <th>height</th>\n",
       "      <th>weight</th>\n",
       "      <th>ap_hi</th>\n",
       "      <th>ap_lo</th>\n",
       "      <th>cholesterol</th>\n",
       "      <th>gluc</th>\n",
       "      <th>smoke</th>\n",
       "      <th>alco</th>\n",
       "      <th>active</th>\n",
       "      <th>cardio</th>\n",
       "    </tr>\n",
       "  </thead>\n",
       "  <tbody>\n",
       "    <tr>\n",
       "      <th>20</th>\n",
       "      <td>64</td>\n",
       "      <td>2</td>\n",
       "      <td>170</td>\n",
       "      <td>74.0</td>\n",
       "      <td>140.0</td>\n",
       "      <td>1000</td>\n",
       "      <td>1</td>\n",
       "      <td>1</td>\n",
       "      <td>0</td>\n",
       "      <td>0</td>\n",
       "      <td>1</td>\n",
       "      <td>1</td>\n",
       "    </tr>\n",
       "    <tr>\n",
       "      <th>182</th>\n",
       "      <td>48</td>\n",
       "      <td>2</td>\n",
       "      <td>170</td>\n",
       "      <td>84.0</td>\n",
       "      <td>150.0</td>\n",
       "      <td>1100</td>\n",
       "      <td>1</td>\n",
       "      <td>1</td>\n",
       "      <td>1</td>\n",
       "      <td>0</td>\n",
       "      <td>0</td>\n",
       "      <td>1</td>\n",
       "    </tr>\n",
       "    <tr>\n",
       "      <th>301</th>\n",
       "      <td>58</td>\n",
       "      <td>2</td>\n",
       "      <td>168</td>\n",
       "      <td>82.0</td>\n",
       "      <td>160.0</td>\n",
       "      <td>1000</td>\n",
       "      <td>2</td>\n",
       "      <td>1</td>\n",
       "      <td>0</td>\n",
       "      <td>0</td>\n",
       "      <td>0</td>\n",
       "      <td>1</td>\n",
       "    </tr>\n",
       "    <tr>\n",
       "      <th>334</th>\n",
       "      <td>44</td>\n",
       "      <td>1</td>\n",
       "      <td>167</td>\n",
       "      <td>71.0</td>\n",
       "      <td>150.0</td>\n",
       "      <td>1001</td>\n",
       "      <td>2</td>\n",
       "      <td>1</td>\n",
       "      <td>0</td>\n",
       "      <td>0</td>\n",
       "      <td>1</td>\n",
       "      <td>1</td>\n",
       "    </tr>\n",
       "    <tr>\n",
       "      <th>375</th>\n",
       "      <td>58</td>\n",
       "      <td>2</td>\n",
       "      <td>169</td>\n",
       "      <td>76.0</td>\n",
       "      <td>140.0</td>\n",
       "      <td>1000</td>\n",
       "      <td>3</td>\n",
       "      <td>3</td>\n",
       "      <td>1</td>\n",
       "      <td>0</td>\n",
       "      <td>1</td>\n",
       "      <td>1</td>\n",
       "    </tr>\n",
       "    <tr>\n",
       "      <th>...</th>\n",
       "      <td>...</td>\n",
       "      <td>...</td>\n",
       "      <td>...</td>\n",
       "      <td>...</td>\n",
       "      <td>...</td>\n",
       "      <td>...</td>\n",
       "      <td>...</td>\n",
       "      <td>...</td>\n",
       "      <td>...</td>\n",
       "      <td>...</td>\n",
       "      <td>...</td>\n",
       "      <td>...</td>\n",
       "    </tr>\n",
       "    <tr>\n",
       "      <th>68932</th>\n",
       "      <td>40</td>\n",
       "      <td>1</td>\n",
       "      <td>154</td>\n",
       "      <td>90.0</td>\n",
       "      <td>130.0</td>\n",
       "      <td>1000</td>\n",
       "      <td>2</td>\n",
       "      <td>2</td>\n",
       "      <td>0</td>\n",
       "      <td>0</td>\n",
       "      <td>1</td>\n",
       "      <td>1</td>\n",
       "    </tr>\n",
       "    <tr>\n",
       "      <th>69072</th>\n",
       "      <td>64</td>\n",
       "      <td>1</td>\n",
       "      <td>167</td>\n",
       "      <td>81.0</td>\n",
       "      <td>160.0</td>\n",
       "      <td>1000</td>\n",
       "      <td>1</td>\n",
       "      <td>1</td>\n",
       "      <td>0</td>\n",
       "      <td>0</td>\n",
       "      <td>1</td>\n",
       "      <td>1</td>\n",
       "    </tr>\n",
       "    <tr>\n",
       "      <th>69173</th>\n",
       "      <td>60</td>\n",
       "      <td>1</td>\n",
       "      <td>152</td>\n",
       "      <td>56.0</td>\n",
       "      <td>160.0</td>\n",
       "      <td>1000</td>\n",
       "      <td>1</td>\n",
       "      <td>1</td>\n",
       "      <td>0</td>\n",
       "      <td>0</td>\n",
       "      <td>1</td>\n",
       "      <td>1</td>\n",
       "    </tr>\n",
       "    <tr>\n",
       "      <th>69179</th>\n",
       "      <td>58</td>\n",
       "      <td>2</td>\n",
       "      <td>168</td>\n",
       "      <td>95.0</td>\n",
       "      <td>160.0</td>\n",
       "      <td>1000</td>\n",
       "      <td>1</td>\n",
       "      <td>1</td>\n",
       "      <td>0</td>\n",
       "      <td>0</td>\n",
       "      <td>1</td>\n",
       "      <td>1</td>\n",
       "    </tr>\n",
       "    <tr>\n",
       "      <th>69268</th>\n",
       "      <td>59</td>\n",
       "      <td>2</td>\n",
       "      <td>168</td>\n",
       "      <td>63.0</td>\n",
       "      <td>140.0</td>\n",
       "      <td>1000</td>\n",
       "      <td>1</td>\n",
       "      <td>1</td>\n",
       "      <td>0</td>\n",
       "      <td>0</td>\n",
       "      <td>1</td>\n",
       "      <td>1</td>\n",
       "    </tr>\n",
       "  </tbody>\n",
       "</table>\n",
       "<p>882 rows × 12 columns</p>\n",
       "</div>"
      ],
      "text/plain": [
       "       age  gender  height  weight  ap_hi  ap_lo  cholesterol  gluc  smoke  \\\n",
       "20      64       2     170    74.0  140.0   1000            1     1      0   \n",
       "182     48       2     170    84.0  150.0   1100            1     1      1   \n",
       "301     58       2     168    82.0  160.0   1000            2     1      0   \n",
       "334     44       1     167    71.0  150.0   1001            2     1      0   \n",
       "375     58       2     169    76.0  140.0   1000            3     3      1   \n",
       "...    ...     ...     ...     ...    ...    ...          ...   ...    ...   \n",
       "68932   40       1     154    90.0  130.0   1000            2     2      0   \n",
       "69072   64       1     167    81.0  160.0   1000            1     1      0   \n",
       "69173   60       1     152    56.0  160.0   1000            1     1      0   \n",
       "69179   58       2     168    95.0  160.0   1000            1     1      0   \n",
       "69268   59       2     168    63.0  140.0   1000            1     1      0   \n",
       "\n",
       "       alco  active  cardio  \n",
       "20        0       1       1  \n",
       "182       0       0       1  \n",
       "301       0       0       1  \n",
       "334       0       1       1  \n",
       "375       0       1       1  \n",
       "...     ...     ...     ...  \n",
       "68932     0       1       1  \n",
       "69072     0       1       1  \n",
       "69173     0       1       1  \n",
       "69179     0       1       1  \n",
       "69268     0       1       1  \n",
       "\n",
       "[882 rows x 12 columns]"
      ]
     },
     "execution_count": 430,
     "metadata": {},
     "output_type": "execute_result"
    }
   ],
   "source": [
    "ap_lo_outliers = df[(df[\"ap_lo\"]>120) & (df[\"cardio\"]==1)]\n",
    "ap_lo_outliers"
   ]
  },
  {
   "cell_type": "code",
   "execution_count": 431,
   "id": "5af8ecc2",
   "metadata": {},
   "outputs": [
    {
     "data": {
      "text/plain": [
       "<AxesSubplot:ylabel='ap_lo'>"
      ]
     },
     "execution_count": 431,
     "metadata": {},
     "output_type": "execute_result"
    },
    {
     "data": {
      "image/png": "[encoded data removed]",
      "text/plain": [
       "<Figure size 432x288 with 1 Axes>"
      ]
     },
     "metadata": {
      "needs_background": "light"
     },
     "output_type": "display_data"
    }
   ],
   "source": [
    "sns.scatterplot(data = ap_hi_outliers[\"ap_lo\"])"
   ]
  },
  {
   "cell_type": "code",
   "execution_count": 432,
   "id": "0bbe4d58",
   "metadata": {},
   "outputs": [
    {
     "data": {
      "text/plain": [
       "96.6560041572239"
      ]
     },
     "execution_count": 432,
     "metadata": {},
     "output_type": "execute_result"
    }
   ],
   "source": [
    "ap_lo_mean = df[\"ap_lo\"].mean()\n",
    "ap_lo_mean"
   ]
  },
  {
   "cell_type": "code",
   "execution_count": 433,
   "id": "6bfbbc0b",
   "metadata": {},
   "outputs": [],
   "source": [
    "df.loc[(df[\"ap_lo\"]>120) & (df[\"cardio\"]==1),\"ap_lo\"] = 120"
   ]
  },
  {
   "cell_type": "code",
   "execution_count": 434,
   "id": "f1adb100",
   "metadata": {
    "scrolled": true
   },
   "outputs": [
    {
     "data": {
      "text/html": [
       "<div>\n",
       "<style scoped>\n",
       "    .dataframe tbody tr th:only-of-type {\n",
       "        vertical-align: middle;\n",
       "    }\n",
       "\n",
       "    .dataframe tbody tr th {\n",
       "        vertical-align: top;\n",
       "    }\n",
       "\n",
       "    .dataframe thead th {\n",
       "        text-align: right;\n",
       "    }\n",
       "</style>\n",
       "<table border=\"1\" class=\"dataframe\">\n",
       "  <thead>\n",
       "    <tr style=\"text-align: right;\">\n",
       "      <th></th>\n",
       "      <th>age</th>\n",
       "      <th>gender</th>\n",
       "      <th>height</th>\n",
       "      <th>weight</th>\n",
       "      <th>ap_hi</th>\n",
       "      <th>ap_lo</th>\n",
       "      <th>cholesterol</th>\n",
       "      <th>gluc</th>\n",
       "      <th>smoke</th>\n",
       "      <th>alco</th>\n",
       "      <th>active</th>\n",
       "      <th>cardio</th>\n",
       "    </tr>\n",
       "  </thead>\n",
       "  <tbody>\n",
       "    <tr>\n",
       "      <th>880</th>\n",
       "      <td>47</td>\n",
       "      <td>2</td>\n",
       "      <td>168</td>\n",
       "      <td>63.0</td>\n",
       "      <td>150.000000</td>\n",
       "      <td>1100</td>\n",
       "      <td>1</td>\n",
       "      <td>1</td>\n",
       "      <td>1</td>\n",
       "      <td>1</td>\n",
       "      <td>1</td>\n",
       "      <td>0</td>\n",
       "    </tr>\n",
       "    <tr>\n",
       "      <th>1207</th>\n",
       "      <td>41</td>\n",
       "      <td>1</td>\n",
       "      <td>166</td>\n",
       "      <td>77.0</td>\n",
       "      <td>160.000000</td>\n",
       "      <td>1000</td>\n",
       "      <td>1</td>\n",
       "      <td>2</td>\n",
       "      <td>1</td>\n",
       "      <td>0</td>\n",
       "      <td>1</td>\n",
       "      <td>0</td>\n",
       "    </tr>\n",
       "    <tr>\n",
       "      <th>2000</th>\n",
       "      <td>62</td>\n",
       "      <td>1</td>\n",
       "      <td>158</td>\n",
       "      <td>70.0</td>\n",
       "      <td>130.000000</td>\n",
       "      <td>1000</td>\n",
       "      <td>1</td>\n",
       "      <td>2</td>\n",
       "      <td>0</td>\n",
       "      <td>0</td>\n",
       "      <td>0</td>\n",
       "      <td>0</td>\n",
       "    </tr>\n",
       "    <tr>\n",
       "      <th>2446</th>\n",
       "      <td>62</td>\n",
       "      <td>1</td>\n",
       "      <td>149</td>\n",
       "      <td>71.0</td>\n",
       "      <td>159.000000</td>\n",
       "      <td>1044</td>\n",
       "      <td>1</td>\n",
       "      <td>1</td>\n",
       "      <td>0</td>\n",
       "      <td>0</td>\n",
       "      <td>1</td>\n",
       "      <td>0</td>\n",
       "    </tr>\n",
       "    <tr>\n",
       "      <th>3466</th>\n",
       "      <td>45</td>\n",
       "      <td>2</td>\n",
       "      <td>162</td>\n",
       "      <td>76.0</td>\n",
       "      <td>140.000000</td>\n",
       "      <td>1100</td>\n",
       "      <td>1</td>\n",
       "      <td>1</td>\n",
       "      <td>0</td>\n",
       "      <td>0</td>\n",
       "      <td>0</td>\n",
       "      <td>0</td>\n",
       "    </tr>\n",
       "    <tr>\n",
       "      <th>...</th>\n",
       "      <td>...</td>\n",
       "      <td>...</td>\n",
       "      <td>...</td>\n",
       "      <td>...</td>\n",
       "      <td>...</td>\n",
       "      <td>...</td>\n",
       "      <td>...</td>\n",
       "      <td>...</td>\n",
       "      <td>...</td>\n",
       "      <td>...</td>\n",
       "      <td>...</td>\n",
       "      <td>...</td>\n",
       "    </tr>\n",
       "    <tr>\n",
       "      <th>67351</th>\n",
       "      <td>49</td>\n",
       "      <td>1</td>\n",
       "      <td>167</td>\n",
       "      <td>69.0</td>\n",
       "      <td>150.000000</td>\n",
       "      <td>709</td>\n",
       "      <td>2</td>\n",
       "      <td>1</td>\n",
       "      <td>0</td>\n",
       "      <td>0</td>\n",
       "      <td>0</td>\n",
       "      <td>0</td>\n",
       "    </tr>\n",
       "    <tr>\n",
       "      <th>68463</th>\n",
       "      <td>62</td>\n",
       "      <td>2</td>\n",
       "      <td>160</td>\n",
       "      <td>98.0</td>\n",
       "      <td>127.155622</td>\n",
       "      <td>1000</td>\n",
       "      <td>1</td>\n",
       "      <td>1</td>\n",
       "      <td>0</td>\n",
       "      <td>0</td>\n",
       "      <td>0</td>\n",
       "      <td>0</td>\n",
       "    </tr>\n",
       "    <tr>\n",
       "      <th>68621</th>\n",
       "      <td>58</td>\n",
       "      <td>2</td>\n",
       "      <td>168</td>\n",
       "      <td>63.0</td>\n",
       "      <td>120.000000</td>\n",
       "      <td>602</td>\n",
       "      <td>1</td>\n",
       "      <td>1</td>\n",
       "      <td>0</td>\n",
       "      <td>0</td>\n",
       "      <td>0</td>\n",
       "      <td>0</td>\n",
       "    </tr>\n",
       "    <tr>\n",
       "      <th>68853</th>\n",
       "      <td>62</td>\n",
       "      <td>2</td>\n",
       "      <td>170</td>\n",
       "      <td>68.0</td>\n",
       "      <td>130.000000</td>\n",
       "      <td>1100</td>\n",
       "      <td>1</td>\n",
       "      <td>1</td>\n",
       "      <td>0</td>\n",
       "      <td>0</td>\n",
       "      <td>1</td>\n",
       "      <td>0</td>\n",
       "    </tr>\n",
       "    <tr>\n",
       "      <th>69186</th>\n",
       "      <td>61</td>\n",
       "      <td>2</td>\n",
       "      <td>166</td>\n",
       "      <td>78.0</td>\n",
       "      <td>170.000000</td>\n",
       "      <td>1000</td>\n",
       "      <td>1</td>\n",
       "      <td>1</td>\n",
       "      <td>0</td>\n",
       "      <td>0</td>\n",
       "      <td>0</td>\n",
       "      <td>0</td>\n",
       "    </tr>\n",
       "  </tbody>\n",
       "</table>\n",
       "<p>163 rows × 12 columns</p>\n",
       "</div>"
      ],
      "text/plain": [
       "       age  gender  height  weight       ap_hi  ap_lo  cholesterol  gluc  \\\n",
       "880     47       2     168    63.0  150.000000   1100            1     1   \n",
       "1207    41       1     166    77.0  160.000000   1000            1     2   \n",
       "2000    62       1     158    70.0  130.000000   1000            1     2   \n",
       "2446    62       1     149    71.0  159.000000   1044            1     1   \n",
       "3466    45       2     162    76.0  140.000000   1100            1     1   \n",
       "...    ...     ...     ...     ...         ...    ...          ...   ...   \n",
       "67351   49       1     167    69.0  150.000000    709            2     1   \n",
       "68463   62       2     160    98.0  127.155622   1000            1     1   \n",
       "68621   58       2     168    63.0  120.000000    602            1     1   \n",
       "68853   62       2     170    68.0  130.000000   1100            1     1   \n",
       "69186   61       2     166    78.0  170.000000   1000            1     1   \n",
       "\n",
       "       smoke  alco  active  cardio  \n",
       "880        1     1       1       0  \n",
       "1207       1     0       1       0  \n",
       "2000       0     0       0       0  \n",
       "2446       0     0       1       0  \n",
       "3466       0     0       0       0  \n",
       "...      ...   ...     ...     ...  \n",
       "67351      0     0       0       0  \n",
       "68463      0     0       0       0  \n",
       "68621      0     0       0       0  \n",
       "68853      0     0       1       0  \n",
       "69186      0     0       0       0  \n",
       "\n",
       "[163 rows x 12 columns]"
      ]
     },
     "execution_count": 434,
     "metadata": {},
     "output_type": "execute_result"
    }
   ],
   "source": [
    "df[(df[\"ap_lo\"]>120)]"
   ]
  },
  {
   "cell_type": "code",
   "execution_count": 435,
   "id": "0f4d8743",
   "metadata": {},
   "outputs": [],
   "source": [
    "df.loc[(df[\"ap_lo\"]>120) & (df[\"cardio\"]==0),\"ap_lo\"] = ap_lo_mean"
   ]
  },
  {
   "cell_type": "code",
   "execution_count": 436,
   "id": "fbaf6a3f",
   "metadata": {},
   "outputs": [
    {
     "data": {
      "image/png": "[encoded data removed]",
      "text/plain": [
       "<Figure size 432x288 with 1 Axes>"
      ]
     },
     "metadata": {
      "needs_background": "light"
     },
     "output_type": "display_data"
    }
   ],
   "source": [
    "figure = df.boxplot(column=\"ap_lo\")"
   ]
  },
  {
   "cell_type": "code",
   "execution_count": 437,
   "id": "31926864",
   "metadata": {},
   "outputs": [
    {
     "data": {
      "text/html": [
       "<div>\n",
       "<style scoped>\n",
       "    .dataframe tbody tr th:only-of-type {\n",
       "        vertical-align: middle;\n",
       "    }\n",
       "\n",
       "    .dataframe tbody tr th {\n",
       "        vertical-align: top;\n",
       "    }\n",
       "\n",
       "    .dataframe thead th {\n",
       "        text-align: right;\n",
       "    }\n",
       "</style>\n",
       "<table border=\"1\" class=\"dataframe\">\n",
       "  <thead>\n",
       "    <tr style=\"text-align: right;\">\n",
       "      <th></th>\n",
       "      <th>age</th>\n",
       "      <th>gender</th>\n",
       "      <th>height</th>\n",
       "      <th>weight</th>\n",
       "      <th>ap_hi</th>\n",
       "      <th>ap_lo</th>\n",
       "      <th>cholesterol</th>\n",
       "      <th>gluc</th>\n",
       "      <th>smoke</th>\n",
       "      <th>alco</th>\n",
       "      <th>active</th>\n",
       "      <th>cardio</th>\n",
       "    </tr>\n",
       "  </thead>\n",
       "  <tbody>\n",
       "    <tr>\n",
       "      <th>1315</th>\n",
       "      <td>62</td>\n",
       "      <td>2</td>\n",
       "      <td>167</td>\n",
       "      <td>59.0</td>\n",
       "      <td>127.155622</td>\n",
       "      <td>0.0</td>\n",
       "      <td>1</td>\n",
       "      <td>1</td>\n",
       "      <td>0</td>\n",
       "      <td>0</td>\n",
       "      <td>1</td>\n",
       "      <td>0</td>\n",
       "    </tr>\n",
       "    <tr>\n",
       "      <th>6899</th>\n",
       "      <td>40</td>\n",
       "      <td>2</td>\n",
       "      <td>70</td>\n",
       "      <td>72.0</td>\n",
       "      <td>120.000000</td>\n",
       "      <td>8.0</td>\n",
       "      <td>1</td>\n",
       "      <td>1</td>\n",
       "      <td>0</td>\n",
       "      <td>0</td>\n",
       "      <td>1</td>\n",
       "      <td>0</td>\n",
       "    </tr>\n",
       "    <tr>\n",
       "      <th>8098</th>\n",
       "      <td>58</td>\n",
       "      <td>1</td>\n",
       "      <td>162</td>\n",
       "      <td>68.0</td>\n",
       "      <td>110.000000</td>\n",
       "      <td>20.0</td>\n",
       "      <td>1</td>\n",
       "      <td>1</td>\n",
       "      <td>0</td>\n",
       "      <td>0</td>\n",
       "      <td>1</td>\n",
       "      <td>0</td>\n",
       "    </tr>\n",
       "    <tr>\n",
       "      <th>12790</th>\n",
       "      <td>41</td>\n",
       "      <td>2</td>\n",
       "      <td>150</td>\n",
       "      <td>60.0</td>\n",
       "      <td>130.000000</td>\n",
       "      <td>0.0</td>\n",
       "      <td>1</td>\n",
       "      <td>1</td>\n",
       "      <td>0</td>\n",
       "      <td>0</td>\n",
       "      <td>0</td>\n",
       "      <td>0</td>\n",
       "    </tr>\n",
       "    <tr>\n",
       "      <th>13236</th>\n",
       "      <td>49</td>\n",
       "      <td>1</td>\n",
       "      <td>164</td>\n",
       "      <td>74.0</td>\n",
       "      <td>110.000000</td>\n",
       "      <td>20.0</td>\n",
       "      <td>1</td>\n",
       "      <td>1</td>\n",
       "      <td>0</td>\n",
       "      <td>0</td>\n",
       "      <td>1</td>\n",
       "      <td>0</td>\n",
       "    </tr>\n",
       "    <tr>\n",
       "      <th>16682</th>\n",
       "      <td>50</td>\n",
       "      <td>1</td>\n",
       "      <td>164</td>\n",
       "      <td>78.0</td>\n",
       "      <td>138.000000</td>\n",
       "      <td>0.0</td>\n",
       "      <td>1</td>\n",
       "      <td>1</td>\n",
       "      <td>0</td>\n",
       "      <td>0</td>\n",
       "      <td>1</td>\n",
       "      <td>0</td>\n",
       "    </tr>\n",
       "    <tr>\n",
       "      <th>18199</th>\n",
       "      <td>48</td>\n",
       "      <td>1</td>\n",
       "      <td>171</td>\n",
       "      <td>68.0</td>\n",
       "      <td>110.000000</td>\n",
       "      <td>7.0</td>\n",
       "      <td>1</td>\n",
       "      <td>1</td>\n",
       "      <td>0</td>\n",
       "      <td>0</td>\n",
       "      <td>1</td>\n",
       "      <td>0</td>\n",
       "    </tr>\n",
       "    <tr>\n",
       "      <th>18376</th>\n",
       "      <td>54</td>\n",
       "      <td>2</td>\n",
       "      <td>168</td>\n",
       "      <td>68.0</td>\n",
       "      <td>110.000000</td>\n",
       "      <td>7.0</td>\n",
       "      <td>1</td>\n",
       "      <td>1</td>\n",
       "      <td>0</td>\n",
       "      <td>0</td>\n",
       "      <td>1</td>\n",
       "      <td>0</td>\n",
       "    </tr>\n",
       "    <tr>\n",
       "      <th>19436</th>\n",
       "      <td>59</td>\n",
       "      <td>1</td>\n",
       "      <td>160</td>\n",
       "      <td>72.0</td>\n",
       "      <td>110.000000</td>\n",
       "      <td>20.0</td>\n",
       "      <td>2</td>\n",
       "      <td>2</td>\n",
       "      <td>0</td>\n",
       "      <td>0</td>\n",
       "      <td>0</td>\n",
       "      <td>0</td>\n",
       "    </tr>\n",
       "    <tr>\n",
       "      <th>22606</th>\n",
       "      <td>46</td>\n",
       "      <td>2</td>\n",
       "      <td>172</td>\n",
       "      <td>66.0</td>\n",
       "      <td>120.000000</td>\n",
       "      <td>20.0</td>\n",
       "      <td>1</td>\n",
       "      <td>1</td>\n",
       "      <td>0</td>\n",
       "      <td>0</td>\n",
       "      <td>0</td>\n",
       "      <td>0</td>\n",
       "    </tr>\n",
       "    <tr>\n",
       "      <th>24755</th>\n",
       "      <td>49</td>\n",
       "      <td>2</td>\n",
       "      <td>176</td>\n",
       "      <td>73.0</td>\n",
       "      <td>45.000000</td>\n",
       "      <td>0.0</td>\n",
       "      <td>1</td>\n",
       "      <td>1</td>\n",
       "      <td>0</td>\n",
       "      <td>0</td>\n",
       "      <td>1</td>\n",
       "      <td>0</td>\n",
       "    </tr>\n",
       "    <tr>\n",
       "      <th>27366</th>\n",
       "      <td>56</td>\n",
       "      <td>1</td>\n",
       "      <td>161</td>\n",
       "      <td>52.0</td>\n",
       "      <td>90.000000</td>\n",
       "      <td>6.0</td>\n",
       "      <td>1</td>\n",
       "      <td>1</td>\n",
       "      <td>0</td>\n",
       "      <td>0</td>\n",
       "      <td>1</td>\n",
       "      <td>0</td>\n",
       "    </tr>\n",
       "    <tr>\n",
       "      <th>31084</th>\n",
       "      <td>44</td>\n",
       "      <td>1</td>\n",
       "      <td>170</td>\n",
       "      <td>64.0</td>\n",
       "      <td>127.155622</td>\n",
       "      <td>0.0</td>\n",
       "      <td>1</td>\n",
       "      <td>1</td>\n",
       "      <td>0</td>\n",
       "      <td>0</td>\n",
       "      <td>1</td>\n",
       "      <td>0</td>\n",
       "    </tr>\n",
       "    <tr>\n",
       "      <th>34441</th>\n",
       "      <td>57</td>\n",
       "      <td>1</td>\n",
       "      <td>146</td>\n",
       "      <td>55.0</td>\n",
       "      <td>130.000000</td>\n",
       "      <td>1.0</td>\n",
       "      <td>1</td>\n",
       "      <td>1</td>\n",
       "      <td>0</td>\n",
       "      <td>0</td>\n",
       "      <td>0</td>\n",
       "      <td>0</td>\n",
       "    </tr>\n",
       "    <tr>\n",
       "      <th>36470</th>\n",
       "      <td>40</td>\n",
       "      <td>1</td>\n",
       "      <td>165</td>\n",
       "      <td>60.0</td>\n",
       "      <td>170.000000</td>\n",
       "      <td>10.0</td>\n",
       "      <td>1</td>\n",
       "      <td>1</td>\n",
       "      <td>0</td>\n",
       "      <td>0</td>\n",
       "      <td>1</td>\n",
       "      <td>0</td>\n",
       "    </tr>\n",
       "    <tr>\n",
       "      <th>37671</th>\n",
       "      <td>64</td>\n",
       "      <td>2</td>\n",
       "      <td>170</td>\n",
       "      <td>81.0</td>\n",
       "      <td>148.000000</td>\n",
       "      <td>0.0</td>\n",
       "      <td>1</td>\n",
       "      <td>1</td>\n",
       "      <td>0</td>\n",
       "      <td>0</td>\n",
       "      <td>1</td>\n",
       "      <td>0</td>\n",
       "    </tr>\n",
       "    <tr>\n",
       "      <th>37900</th>\n",
       "      <td>50</td>\n",
       "      <td>2</td>\n",
       "      <td>165</td>\n",
       "      <td>64.0</td>\n",
       "      <td>120.000000</td>\n",
       "      <td>9.0</td>\n",
       "      <td>1</td>\n",
       "      <td>1</td>\n",
       "      <td>0</td>\n",
       "      <td>0</td>\n",
       "      <td>1</td>\n",
       "      <td>0</td>\n",
       "    </tr>\n",
       "    <tr>\n",
       "      <th>39631</th>\n",
       "      <td>56</td>\n",
       "      <td>1</td>\n",
       "      <td>162</td>\n",
       "      <td>50.0</td>\n",
       "      <td>127.155622</td>\n",
       "      <td>0.0</td>\n",
       "      <td>1</td>\n",
       "      <td>1</td>\n",
       "      <td>0</td>\n",
       "      <td>0</td>\n",
       "      <td>1</td>\n",
       "      <td>0</td>\n",
       "    </tr>\n",
       "    <tr>\n",
       "      <th>39951</th>\n",
       "      <td>40</td>\n",
       "      <td>1</td>\n",
       "      <td>162</td>\n",
       "      <td>58.0</td>\n",
       "      <td>120.000000</td>\n",
       "      <td>20.0</td>\n",
       "      <td>1</td>\n",
       "      <td>1</td>\n",
       "      <td>0</td>\n",
       "      <td>0</td>\n",
       "      <td>1</td>\n",
       "      <td>0</td>\n",
       "    </tr>\n",
       "    <tr>\n",
       "      <th>40262</th>\n",
       "      <td>52</td>\n",
       "      <td>1</td>\n",
       "      <td>170</td>\n",
       "      <td>68.0</td>\n",
       "      <td>100.000000</td>\n",
       "      <td>20.0</td>\n",
       "      <td>1</td>\n",
       "      <td>1</td>\n",
       "      <td>0</td>\n",
       "      <td>0</td>\n",
       "      <td>1</td>\n",
       "      <td>0</td>\n",
       "    </tr>\n",
       "    <tr>\n",
       "      <th>40806</th>\n",
       "      <td>57</td>\n",
       "      <td>1</td>\n",
       "      <td>154</td>\n",
       "      <td>41.0</td>\n",
       "      <td>127.155622</td>\n",
       "      <td>0.0</td>\n",
       "      <td>1</td>\n",
       "      <td>1</td>\n",
       "      <td>0</td>\n",
       "      <td>0</td>\n",
       "      <td>1</td>\n",
       "      <td>0</td>\n",
       "    </tr>\n",
       "    <tr>\n",
       "      <th>41698</th>\n",
       "      <td>49</td>\n",
       "      <td>2</td>\n",
       "      <td>176</td>\n",
       "      <td>69.0</td>\n",
       "      <td>127.155622</td>\n",
       "      <td>0.0</td>\n",
       "      <td>1</td>\n",
       "      <td>1</td>\n",
       "      <td>0</td>\n",
       "      <td>0</td>\n",
       "      <td>1</td>\n",
       "      <td>0</td>\n",
       "    </tr>\n",
       "    <tr>\n",
       "      <th>43223</th>\n",
       "      <td>51</td>\n",
       "      <td>1</td>\n",
       "      <td>164</td>\n",
       "      <td>78.0</td>\n",
       "      <td>108.000000</td>\n",
       "      <td>0.0</td>\n",
       "      <td>2</td>\n",
       "      <td>1</td>\n",
       "      <td>0</td>\n",
       "      <td>0</td>\n",
       "      <td>1</td>\n",
       "      <td>0</td>\n",
       "    </tr>\n",
       "    <tr>\n",
       "      <th>45136</th>\n",
       "      <td>54</td>\n",
       "      <td>2</td>\n",
       "      <td>165</td>\n",
       "      <td>70.0</td>\n",
       "      <td>140.000000</td>\n",
       "      <td>0.0</td>\n",
       "      <td>3</td>\n",
       "      <td>1</td>\n",
       "      <td>1</td>\n",
       "      <td>0</td>\n",
       "      <td>1</td>\n",
       "      <td>0</td>\n",
       "    </tr>\n",
       "    <tr>\n",
       "      <th>47012</th>\n",
       "      <td>60</td>\n",
       "      <td>1</td>\n",
       "      <td>156</td>\n",
       "      <td>100.0</td>\n",
       "      <td>140.000000</td>\n",
       "      <td>10.0</td>\n",
       "      <td>1</td>\n",
       "      <td>1</td>\n",
       "      <td>0</td>\n",
       "      <td>0</td>\n",
       "      <td>1</td>\n",
       "      <td>0</td>\n",
       "    </tr>\n",
       "    <tr>\n",
       "      <th>51881</th>\n",
       "      <td>60</td>\n",
       "      <td>1</td>\n",
       "      <td>155</td>\n",
       "      <td>66.0</td>\n",
       "      <td>45.000000</td>\n",
       "      <td>0.0</td>\n",
       "      <td>1</td>\n",
       "      <td>1</td>\n",
       "      <td>0</td>\n",
       "      <td>0</td>\n",
       "      <td>1</td>\n",
       "      <td>0</td>\n",
       "    </tr>\n",
       "    <tr>\n",
       "      <th>56251</th>\n",
       "      <td>42</td>\n",
       "      <td>1</td>\n",
       "      <td>164</td>\n",
       "      <td>70.0</td>\n",
       "      <td>120.000000</td>\n",
       "      <td>0.0</td>\n",
       "      <td>1</td>\n",
       "      <td>1</td>\n",
       "      <td>0</td>\n",
       "      <td>0</td>\n",
       "      <td>1</td>\n",
       "      <td>0</td>\n",
       "    </tr>\n",
       "    <tr>\n",
       "      <th>63088</th>\n",
       "      <td>40</td>\n",
       "      <td>2</td>\n",
       "      <td>161</td>\n",
       "      <td>61.0</td>\n",
       "      <td>117.000000</td>\n",
       "      <td>0.0</td>\n",
       "      <td>1</td>\n",
       "      <td>1</td>\n",
       "      <td>0</td>\n",
       "      <td>0</td>\n",
       "      <td>1</td>\n",
       "      <td>0</td>\n",
       "    </tr>\n",
       "    <tr>\n",
       "      <th>63129</th>\n",
       "      <td>46</td>\n",
       "      <td>1</td>\n",
       "      <td>178</td>\n",
       "      <td>69.0</td>\n",
       "      <td>110.000000</td>\n",
       "      <td>10.0</td>\n",
       "      <td>1</td>\n",
       "      <td>1</td>\n",
       "      <td>0</td>\n",
       "      <td>0</td>\n",
       "      <td>1</td>\n",
       "      <td>0</td>\n",
       "    </tr>\n",
       "    <tr>\n",
       "      <th>67869</th>\n",
       "      <td>42</td>\n",
       "      <td>1</td>\n",
       "      <td>163</td>\n",
       "      <td>71.0</td>\n",
       "      <td>110.000000</td>\n",
       "      <td>6.0</td>\n",
       "      <td>1</td>\n",
       "      <td>1</td>\n",
       "      <td>0</td>\n",
       "      <td>0</td>\n",
       "      <td>1</td>\n",
       "      <td>0</td>\n",
       "    </tr>\n",
       "    <tr>\n",
       "      <th>67964</th>\n",
       "      <td>50</td>\n",
       "      <td>1</td>\n",
       "      <td>156</td>\n",
       "      <td>41.0</td>\n",
       "      <td>127.155622</td>\n",
       "      <td>0.0</td>\n",
       "      <td>1</td>\n",
       "      <td>1</td>\n",
       "      <td>0</td>\n",
       "      <td>0</td>\n",
       "      <td>1</td>\n",
       "      <td>0</td>\n",
       "    </tr>\n",
       "  </tbody>\n",
       "</table>\n",
       "</div>"
      ],
      "text/plain": [
       "       age  gender  height  weight       ap_hi  ap_lo  cholesterol  gluc  \\\n",
       "1315    62       2     167    59.0  127.155622    0.0            1     1   \n",
       "6899    40       2      70    72.0  120.000000    8.0            1     1   \n",
       "8098    58       1     162    68.0  110.000000   20.0            1     1   \n",
       "12790   41       2     150    60.0  130.000000    0.0            1     1   \n",
       "13236   49       1     164    74.0  110.000000   20.0            1     1   \n",
       "16682   50       1     164    78.0  138.000000    0.0            1     1   \n",
       "18199   48       1     171    68.0  110.000000    7.0            1     1   \n",
       "18376   54       2     168    68.0  110.000000    7.0            1     1   \n",
       "19436   59       1     160    72.0  110.000000   20.0            2     2   \n",
       "22606   46       2     172    66.0  120.000000   20.0            1     1   \n",
       "24755   49       2     176    73.0   45.000000    0.0            1     1   \n",
       "27366   56       1     161    52.0   90.000000    6.0            1     1   \n",
       "31084   44       1     170    64.0  127.155622    0.0            1     1   \n",
       "34441   57       1     146    55.0  130.000000    1.0            1     1   \n",
       "36470   40       1     165    60.0  170.000000   10.0            1     1   \n",
       "37671   64       2     170    81.0  148.000000    0.0            1     1   \n",
       "37900   50       2     165    64.0  120.000000    9.0            1     1   \n",
       "39631   56       1     162    50.0  127.155622    0.0            1     1   \n",
       "39951   40       1     162    58.0  120.000000   20.0            1     1   \n",
       "40262   52       1     170    68.0  100.000000   20.0            1     1   \n",
       "40806   57       1     154    41.0  127.155622    0.0            1     1   \n",
       "41698   49       2     176    69.0  127.155622    0.0            1     1   \n",
       "43223   51       1     164    78.0  108.000000    0.0            2     1   \n",
       "45136   54       2     165    70.0  140.000000    0.0            3     1   \n",
       "47012   60       1     156   100.0  140.000000   10.0            1     1   \n",
       "51881   60       1     155    66.0   45.000000    0.0            1     1   \n",
       "56251   42       1     164    70.0  120.000000    0.0            1     1   \n",
       "63088   40       2     161    61.0  117.000000    0.0            1     1   \n",
       "63129   46       1     178    69.0  110.000000   10.0            1     1   \n",
       "67869   42       1     163    71.0  110.000000    6.0            1     1   \n",
       "67964   50       1     156    41.0  127.155622    0.0            1     1   \n",
       "\n",
       "       smoke  alco  active  cardio  \n",
       "1315       0     0       1       0  \n",
       "6899       0     0       1       0  \n",
       "8098       0     0       1       0  \n",
       "12790      0     0       0       0  \n",
       "13236      0     0       1       0  \n",
       "16682      0     0       1       0  \n",
       "18199      0     0       1       0  \n",
       "18376      0     0       1       0  \n",
       "19436      0     0       0       0  \n",
       "22606      0     0       0       0  \n",
       "24755      0     0       1       0  \n",
       "27366      0     0       1       0  \n",
       "31084      0     0       1       0  \n",
       "34441      0     0       0       0  \n",
       "36470      0     0       1       0  \n",
       "37671      0     0       1       0  \n",
       "37900      0     0       1       0  \n",
       "39631      0     0       1       0  \n",
       "39951      0     0       1       0  \n",
       "40262      0     0       1       0  \n",
       "40806      0     0       1       0  \n",
       "41698      0     0       1       0  \n",
       "43223      0     0       1       0  \n",
       "45136      1     0       1       0  \n",
       "47012      0     0       1       0  \n",
       "51881      0     0       1       0  \n",
       "56251      0     0       1       0  \n",
       "63088      0     0       1       0  \n",
       "63129      0     0       1       0  \n",
       "67869      0     0       1       0  \n",
       "67964      0     0       1       0  "
      ]
     },
     "execution_count": 437,
     "metadata": {},
     "output_type": "execute_result"
    }
   ],
   "source": [
    "ap_lo_outliers = df[(df[\"ap_lo\"]<25) & (df[\"cardio\"]==0)]\n",
    "ap_lo_outliers"
   ]
  },
  {
   "cell_type": "code",
   "execution_count": 438,
   "id": "43a150e6",
   "metadata": {},
   "outputs": [],
   "source": [
    "df.loc[(df[\"ap_lo\"]<25) & (df[\"cardio\"]==0),\"ap_lo\"] = 25"
   ]
  },
  {
   "cell_type": "code",
   "execution_count": 439,
   "id": "7af8848b",
   "metadata": {
    "scrolled": true
   },
   "outputs": [
    {
     "data": {
      "text/html": [
       "<div>\n",
       "<style scoped>\n",
       "    .dataframe tbody tr th:only-of-type {\n",
       "        vertical-align: middle;\n",
       "    }\n",
       "\n",
       "    .dataframe tbody tr th {\n",
       "        vertical-align: top;\n",
       "    }\n",
       "\n",
       "    .dataframe thead th {\n",
       "        text-align: right;\n",
       "    }\n",
       "</style>\n",
       "<table border=\"1\" class=\"dataframe\">\n",
       "  <thead>\n",
       "    <tr style=\"text-align: right;\">\n",
       "      <th></th>\n",
       "      <th>age</th>\n",
       "      <th>gender</th>\n",
       "      <th>height</th>\n",
       "      <th>weight</th>\n",
       "      <th>ap_hi</th>\n",
       "      <th>ap_lo</th>\n",
       "      <th>cholesterol</th>\n",
       "      <th>gluc</th>\n",
       "      <th>smoke</th>\n",
       "      <th>alco</th>\n",
       "      <th>active</th>\n",
       "      <th>cardio</th>\n",
       "    </tr>\n",
       "  </thead>\n",
       "  <tbody>\n",
       "    <tr>\n",
       "      <th>6038</th>\n",
       "      <td>46</td>\n",
       "      <td>1</td>\n",
       "      <td>156</td>\n",
       "      <td>61.0</td>\n",
       "      <td>150.000000</td>\n",
       "      <td>10.0</td>\n",
       "      <td>1</td>\n",
       "      <td>1</td>\n",
       "      <td>0</td>\n",
       "      <td>0</td>\n",
       "      <td>0</td>\n",
       "      <td>1</td>\n",
       "    </tr>\n",
       "    <tr>\n",
       "      <th>9078</th>\n",
       "      <td>60</td>\n",
       "      <td>1</td>\n",
       "      <td>166</td>\n",
       "      <td>125.0</td>\n",
       "      <td>120.000000</td>\n",
       "      <td>8.0</td>\n",
       "      <td>3</td>\n",
       "      <td>1</td>\n",
       "      <td>0</td>\n",
       "      <td>0</td>\n",
       "      <td>1</td>\n",
       "      <td>1</td>\n",
       "    </tr>\n",
       "    <tr>\n",
       "      <th>9407</th>\n",
       "      <td>50</td>\n",
       "      <td>1</td>\n",
       "      <td>152</td>\n",
       "      <td>50.0</td>\n",
       "      <td>150.000000</td>\n",
       "      <td>10.0</td>\n",
       "      <td>3</td>\n",
       "      <td>1</td>\n",
       "      <td>0</td>\n",
       "      <td>0</td>\n",
       "      <td>1</td>\n",
       "      <td>1</td>\n",
       "    </tr>\n",
       "    <tr>\n",
       "      <th>11121</th>\n",
       "      <td>50</td>\n",
       "      <td>1</td>\n",
       "      <td>169</td>\n",
       "      <td>69.0</td>\n",
       "      <td>128.000000</td>\n",
       "      <td>20.0</td>\n",
       "      <td>1</td>\n",
       "      <td>1</td>\n",
       "      <td>0</td>\n",
       "      <td>0</td>\n",
       "      <td>1</td>\n",
       "      <td>1</td>\n",
       "    </tr>\n",
       "    <tr>\n",
       "      <th>15760</th>\n",
       "      <td>56</td>\n",
       "      <td>1</td>\n",
       "      <td>156</td>\n",
       "      <td>50.0</td>\n",
       "      <td>138.000000</td>\n",
       "      <td>0.0</td>\n",
       "      <td>3</td>\n",
       "      <td>1</td>\n",
       "      <td>0</td>\n",
       "      <td>0</td>\n",
       "      <td>1</td>\n",
       "      <td>1</td>\n",
       "    </tr>\n",
       "    <tr>\n",
       "      <th>18259</th>\n",
       "      <td>48</td>\n",
       "      <td>2</td>\n",
       "      <td>170</td>\n",
       "      <td>62.0</td>\n",
       "      <td>110.000000</td>\n",
       "      <td>20.0</td>\n",
       "      <td>1</td>\n",
       "      <td>1</td>\n",
       "      <td>0</td>\n",
       "      <td>0</td>\n",
       "      <td>1</td>\n",
       "      <td>1</td>\n",
       "    </tr>\n",
       "    <tr>\n",
       "      <th>21681</th>\n",
       "      <td>44</td>\n",
       "      <td>2</td>\n",
       "      <td>170</td>\n",
       "      <td>66.0</td>\n",
       "      <td>120.000000</td>\n",
       "      <td>20.0</td>\n",
       "      <td>1</td>\n",
       "      <td>1</td>\n",
       "      <td>0</td>\n",
       "      <td>0</td>\n",
       "      <td>1</td>\n",
       "      <td>1</td>\n",
       "    </tr>\n",
       "    <tr>\n",
       "      <th>22224</th>\n",
       "      <td>58</td>\n",
       "      <td>2</td>\n",
       "      <td>166</td>\n",
       "      <td>68.0</td>\n",
       "      <td>149.000000</td>\n",
       "      <td>0.0</td>\n",
       "      <td>1</td>\n",
       "      <td>1</td>\n",
       "      <td>0</td>\n",
       "      <td>0</td>\n",
       "      <td>1</td>\n",
       "      <td>1</td>\n",
       "    </tr>\n",
       "    <tr>\n",
       "      <th>23168</th>\n",
       "      <td>44</td>\n",
       "      <td>1</td>\n",
       "      <td>161</td>\n",
       "      <td>92.0</td>\n",
       "      <td>180.000000</td>\n",
       "      <td>0.0</td>\n",
       "      <td>2</td>\n",
       "      <td>1</td>\n",
       "      <td>0</td>\n",
       "      <td>0</td>\n",
       "      <td>1</td>\n",
       "      <td>1</td>\n",
       "    </tr>\n",
       "    <tr>\n",
       "      <th>24058</th>\n",
       "      <td>56</td>\n",
       "      <td>1</td>\n",
       "      <td>168</td>\n",
       "      <td>68.0</td>\n",
       "      <td>120.000000</td>\n",
       "      <td>20.0</td>\n",
       "      <td>1</td>\n",
       "      <td>1</td>\n",
       "      <td>0</td>\n",
       "      <td>0</td>\n",
       "      <td>1</td>\n",
       "      <td>1</td>\n",
       "    </tr>\n",
       "    <tr>\n",
       "      <th>25814</th>\n",
       "      <td>52</td>\n",
       "      <td>1</td>\n",
       "      <td>157</td>\n",
       "      <td>69.0</td>\n",
       "      <td>126.562208</td>\n",
       "      <td>10.0</td>\n",
       "      <td>3</td>\n",
       "      <td>1</td>\n",
       "      <td>0</td>\n",
       "      <td>0</td>\n",
       "      <td>1</td>\n",
       "      <td>1</td>\n",
       "    </tr>\n",
       "    <tr>\n",
       "      <th>26987</th>\n",
       "      <td>64</td>\n",
       "      <td>2</td>\n",
       "      <td>180</td>\n",
       "      <td>73.0</td>\n",
       "      <td>140.000000</td>\n",
       "      <td>0.0</td>\n",
       "      <td>1</td>\n",
       "      <td>1</td>\n",
       "      <td>1</td>\n",
       "      <td>1</td>\n",
       "      <td>1</td>\n",
       "      <td>1</td>\n",
       "    </tr>\n",
       "    <tr>\n",
       "      <th>39197</th>\n",
       "      <td>50</td>\n",
       "      <td>1</td>\n",
       "      <td>177</td>\n",
       "      <td>59.0</td>\n",
       "      <td>120.000000</td>\n",
       "      <td>20.0</td>\n",
       "      <td>2</td>\n",
       "      <td>2</td>\n",
       "      <td>0</td>\n",
       "      <td>0</td>\n",
       "      <td>1</td>\n",
       "      <td>1</td>\n",
       "    </tr>\n",
       "    <tr>\n",
       "      <th>42608</th>\n",
       "      <td>62</td>\n",
       "      <td>1</td>\n",
       "      <td>151</td>\n",
       "      <td>58.0</td>\n",
       "      <td>170.000000</td>\n",
       "      <td>10.0</td>\n",
       "      <td>3</td>\n",
       "      <td>1</td>\n",
       "      <td>0</td>\n",
       "      <td>0</td>\n",
       "      <td>1</td>\n",
       "      <td>1</td>\n",
       "    </tr>\n",
       "    <tr>\n",
       "      <th>43910</th>\n",
       "      <td>61</td>\n",
       "      <td>2</td>\n",
       "      <td>165</td>\n",
       "      <td>65.0</td>\n",
       "      <td>130.000000</td>\n",
       "      <td>20.0</td>\n",
       "      <td>1</td>\n",
       "      <td>1</td>\n",
       "      <td>0</td>\n",
       "      <td>0</td>\n",
       "      <td>1</td>\n",
       "      <td>1</td>\n",
       "    </tr>\n",
       "    <tr>\n",
       "      <th>47350</th>\n",
       "      <td>52</td>\n",
       "      <td>1</td>\n",
       "      <td>160</td>\n",
       "      <td>84.0</td>\n",
       "      <td>121.000000</td>\n",
       "      <td>0.0</td>\n",
       "      <td>1</td>\n",
       "      <td>1</td>\n",
       "      <td>0</td>\n",
       "      <td>0</td>\n",
       "      <td>0</td>\n",
       "      <td>1</td>\n",
       "    </tr>\n",
       "    <tr>\n",
       "      <th>52152</th>\n",
       "      <td>49</td>\n",
       "      <td>2</td>\n",
       "      <td>164</td>\n",
       "      <td>64.0</td>\n",
       "      <td>126.562208</td>\n",
       "      <td>20.0</td>\n",
       "      <td>3</td>\n",
       "      <td>1</td>\n",
       "      <td>0</td>\n",
       "      <td>0</td>\n",
       "      <td>1</td>\n",
       "      <td>1</td>\n",
       "    </tr>\n",
       "    <tr>\n",
       "      <th>56228</th>\n",
       "      <td>50</td>\n",
       "      <td>1</td>\n",
       "      <td>155</td>\n",
       "      <td>76.0</td>\n",
       "      <td>70.000000</td>\n",
       "      <td>15.0</td>\n",
       "      <td>1</td>\n",
       "      <td>1</td>\n",
       "      <td>0</td>\n",
       "      <td>1</td>\n",
       "      <td>1</td>\n",
       "      <td>1</td>\n",
       "    </tr>\n",
       "    <tr>\n",
       "      <th>56942</th>\n",
       "      <td>56</td>\n",
       "      <td>1</td>\n",
       "      <td>157</td>\n",
       "      <td>76.0</td>\n",
       "      <td>180.000000</td>\n",
       "      <td>20.0</td>\n",
       "      <td>1</td>\n",
       "      <td>1</td>\n",
       "      <td>0</td>\n",
       "      <td>0</td>\n",
       "      <td>1</td>\n",
       "      <td>1</td>\n",
       "    </tr>\n",
       "    <tr>\n",
       "      <th>59407</th>\n",
       "      <td>62</td>\n",
       "      <td>1</td>\n",
       "      <td>167</td>\n",
       "      <td>74.0</td>\n",
       "      <td>126.562208</td>\n",
       "      <td>-70.0</td>\n",
       "      <td>1</td>\n",
       "      <td>1</td>\n",
       "      <td>0</td>\n",
       "      <td>0</td>\n",
       "      <td>1</td>\n",
       "      <td>1</td>\n",
       "    </tr>\n",
       "    <tr>\n",
       "      <th>64604</th>\n",
       "      <td>65</td>\n",
       "      <td>2</td>\n",
       "      <td>176</td>\n",
       "      <td>99.0</td>\n",
       "      <td>120.000000</td>\n",
       "      <td>0.0</td>\n",
       "      <td>1</td>\n",
       "      <td>3</td>\n",
       "      <td>0</td>\n",
       "      <td>0</td>\n",
       "      <td>1</td>\n",
       "      <td>1</td>\n",
       "    </tr>\n",
       "    <tr>\n",
       "      <th>67524</th>\n",
       "      <td>51</td>\n",
       "      <td>2</td>\n",
       "      <td>173</td>\n",
       "      <td>100.0</td>\n",
       "      <td>130.000000</td>\n",
       "      <td>20.0</td>\n",
       "      <td>1</td>\n",
       "      <td>1</td>\n",
       "      <td>0</td>\n",
       "      <td>0</td>\n",
       "      <td>1</td>\n",
       "      <td>1</td>\n",
       "    </tr>\n",
       "  </tbody>\n",
       "</table>\n",
       "</div>"
      ],
      "text/plain": [
       "       age  gender  height  weight       ap_hi  ap_lo  cholesterol  gluc  \\\n",
       "6038    46       1     156    61.0  150.000000   10.0            1     1   \n",
       "9078    60       1     166   125.0  120.000000    8.0            3     1   \n",
       "9407    50       1     152    50.0  150.000000   10.0            3     1   \n",
       "11121   50       1     169    69.0  128.000000   20.0            1     1   \n",
       "15760   56       1     156    50.0  138.000000    0.0            3     1   \n",
       "18259   48       2     170    62.0  110.000000   20.0            1     1   \n",
       "21681   44       2     170    66.0  120.000000   20.0            1     1   \n",
       "22224   58       2     166    68.0  149.000000    0.0            1     1   \n",
       "23168   44       1     161    92.0  180.000000    0.0            2     1   \n",
       "24058   56       1     168    68.0  120.000000   20.0            1     1   \n",
       "25814   52       1     157    69.0  126.562208   10.0            3     1   \n",
       "26987   64       2     180    73.0  140.000000    0.0            1     1   \n",
       "39197   50       1     177    59.0  120.000000   20.0            2     2   \n",
       "42608   62       1     151    58.0  170.000000   10.0            3     1   \n",
       "43910   61       2     165    65.0  130.000000   20.0            1     1   \n",
       "47350   52       1     160    84.0  121.000000    0.0            1     1   \n",
       "52152   49       2     164    64.0  126.562208   20.0            3     1   \n",
       "56228   50       1     155    76.0   70.000000   15.0            1     1   \n",
       "56942   56       1     157    76.0  180.000000   20.0            1     1   \n",
       "59407   62       1     167    74.0  126.562208  -70.0            1     1   \n",
       "64604   65       2     176    99.0  120.000000    0.0            1     3   \n",
       "67524   51       2     173   100.0  130.000000   20.0            1     1   \n",
       "\n",
       "       smoke  alco  active  cardio  \n",
       "6038       0     0       0       1  \n",
       "9078       0     0       1       1  \n",
       "9407       0     0       1       1  \n",
       "11121      0     0       1       1  \n",
       "15760      0     0       1       1  \n",
       "18259      0     0       1       1  \n",
       "21681      0     0       1       1  \n",
       "22224      0     0       1       1  \n",
       "23168      0     0       1       1  \n",
       "24058      0     0       1       1  \n",
       "25814      0     0       1       1  \n",
       "26987      1     1       1       1  \n",
       "39197      0     0       1       1  \n",
       "42608      0     0       1       1  \n",
       "43910      0     0       1       1  \n",
       "47350      0     0       0       1  \n",
       "52152      0     0       1       1  \n",
       "56228      0     1       1       1  \n",
       "56942      0     0       1       1  \n",
       "59407      0     0       1       1  \n",
       "64604      0     0       1       1  \n",
       "67524      0     0       1       1  "
      ]
     },
     "execution_count": 439,
     "metadata": {},
     "output_type": "execute_result"
    }
   ],
   "source": [
    "df.loc[(df[\"ap_lo\"]<25)]"
   ]
  },
  {
   "cell_type": "code",
   "execution_count": 440,
   "id": "e5aa80e4",
   "metadata": {},
   "outputs": [
    {
     "data": {
      "text/plain": [
       "81.76824817295238"
      ]
     },
     "execution_count": 440,
     "metadata": {},
     "output_type": "execute_result"
    }
   ],
   "source": [
    "ap_lo_mean = df[\"ap_lo\"].mean()\n",
    "ap_lo_mean"
   ]
  },
  {
   "cell_type": "code",
   "execution_count": 441,
   "id": "de53564d",
   "metadata": {},
   "outputs": [],
   "source": [
    "df.loc[(df[\"ap_lo\"]<25) & (df[\"cardio\"]==1),\"ap_lo\"] = ap_lo_mean"
   ]
  },
  {
   "cell_type": "code",
   "execution_count": 442,
   "id": "77193948",
   "metadata": {},
   "outputs": [
    {
     "data": {
      "image/png": "[encoded data removed]",
      "text/plain": [
       "<Figure size 432x288 with 1 Axes>"
      ]
     },
     "metadata": {
      "needs_background": "light"
     },
     "output_type": "display_data"
    }
   ],
   "source": [
    "figure = df.boxplot(column=\"ap_lo\")"
   ]
  },
  {
   "cell_type": "markdown",
   "id": "5637828b",
   "metadata": {},
   "source": [
    "#### I converted people with dystolic blood preasure more than 120 and cardio 1 to 120, people with more than 120  and cardio 0 to the average, people with less than 25 and cardio 0  to 25 and finally people with less than 25 and cardio 1 to the average."
   ]
  },
  {
   "cell_type": "markdown",
   "id": "5965b8c7",
   "metadata": {},
   "source": [
    "# Correlation after Preprocessing the data"
   ]
  },
  {
   "cell_type": "code",
   "execution_count": null,
   "id": "23a1d27d",
   "metadata": {},
   "outputs": [],
   "source": [
    "df.corr()"
   ]
  },
  {
   "cell_type": "code",
   "execution_count": 448,
   "id": "395d2314",
   "metadata": {
    "scrolled": false
   },
   "outputs": [
    {
     "data": {
      "text/plain": [
       "<AxesSubplot:>"
      ]
     },
     "execution_count": 448,
     "metadata": {},
     "output_type": "execute_result"
    },
    {
     "data": {
      "image/png": "[encoded data removed]",
      "text/plain": [
       "<Figure size 720x720 with 2 Axes>"
      ]
     },
     "metadata": {
      "needs_background": "light"
     },
     "output_type": "display_data"
    }
   ],
   "source": [
    "plt.figure(figsize=(10,10))\n",
    "sns.heatmap(df.corr(), annot=True, fmt=\".0%\")"
   ]
  },
  {
   "cell_type": "markdown",
   "id": "bfcd50af",
   "metadata": {},
   "source": [
    "#### We notice that the correlation between diastolic and systolic preassure increased significantly"
   ]
  },
  {
   "cell_type": "markdown",
   "id": "5f0d71d3",
   "metadata": {},
   "source": [
    "# Decision Tree Model"
   ]
  },
  {
   "cell_type": "code",
   "execution_count": 484,
   "id": "c5ec4c16",
   "metadata": {},
   "outputs": [
    {
     "name": "stdout",
     "output_type": "stream",
     "text": [
      "tree Train Score is :  0.7518259183453625\n",
      "tree Test Score  is :  0.727101740880063\n",
      "Predicted Value for DecisionTreeClassifierModel is : \n",
      " [1 1 1 0 0 0 0 0 0 0]\n"
     ]
    },
    {
     "data": {
      "text/plain": [
       "array([1, 1, 1, 0, 0, 1, 0, 0, 1, 1], dtype=int64)"
      ]
     },
     "execution_count": 484,
     "metadata": {},
     "output_type": "execute_result"
    }
   ],
   "source": [
    "from sklearn.model_selection import train_test_split\n",
    "from sklearn.tree import DecisionTreeClassifier\n",
    "from sklearn.metrics import mean_absolute_error \n",
    "from sklearn.metrics import mean_squared_error \n",
    "from sklearn.metrics import confusion_matrix\n",
    "\n",
    "X = df.iloc[:, :-1].values\n",
    "Y = df.iloc[:, -1].values\n",
    "\n",
    "X_train, X_test, y_train, y_test = train_test_split(X, Y, test_size=0.33, random_state=44, shuffle =True)\n",
    "\n",
    "tree = DecisionTreeClassifier(criterion='gini',max_depth=3,random_state=33) \n",
    "tree.fit(X_train, y_train)\n",
    "\n",
    "print('tree Train Score is : ' , tree.score(X_train, y_train))\n",
    "print('tree Test Score  is : ' , tree.score(X_test, y_test))\n",
    "\n",
    "y_pred = DecisionTreeClassifierModel.predict(X_test)\n",
    "print('Predicted Value for DecisionTreeClassifierModel is : \\n' , y_pred[:10])\n",
    "y_test[:10]"
   ]
  },
  {
   "cell_type": "code",
   "execution_count": 480,
   "id": "a5c5d201",
   "metadata": {},
   "outputs": [
    {
     "data": {
      "image/png": "[encoded data removed]",
      "text/plain": [
       "<Figure size 432x288 with 2 Axes>"
      ]
     },
     "metadata": {
      "needs_background": "light"
     },
     "output_type": "display_data"
    }
   ],
   "source": [
    "from sklearn.metrics import confusion_matrix\n",
    "cm = confusion_matrix(y_test, tree.predict(X_test))\n",
    "\n",
    "# drawing confusion matrix\n",
    "sns.heatmap(cm, center = True, annot=True, fmt=\"d\", linewidths=.5)\n",
    "plt.show()"
   ]
  },
  {
   "cell_type": "code",
   "execution_count": 485,
   "id": "2a1de2df",
   "metadata": {},
   "outputs": [
    {
     "name": "stdout",
     "output_type": "stream",
     "text": [
      "Index(['age', 'gender', 'height', 'weight', 'ap_hi', 'ap_lo', 'cholesterol',\n",
      "       'gluc', 'smoke', 'alco', 'active', 'cardio'],\n",
      "      dtype='object')\n",
      "[0.1174833  0.00365129 0.02778414 0.04596423 0.69004672 0.02302351\n",
      " 0.06632859 0.00831458 0.00539097 0.00196156 0.0100511 ]\n"
     ]
    }
   ],
   "source": [
    "print(df.columns)\n",
    "print( tree.feature_importances_)"
   ]
  },
  {
   "cell_type": "code",
   "execution_count": 523,
   "id": "ee2b42ef",
   "metadata": {},
   "outputs": [
    {
     "data": {
      "text/plain": [
       "([0, 1, 2, 3, 4, 5, 6, 7, 8, 9, 10],\n",
       " [Text(0, 0, ''),\n",
       "  Text(0, 0, ''),\n",
       "  Text(0, 0, ''),\n",
       "  Text(0, 0, ''),\n",
       "  Text(0, 0, ''),\n",
       "  Text(0, 0, ''),\n",
       "  Text(0, 0, ''),\n",
       "  Text(0, 0, ''),\n",
       "  Text(0, 0, ''),\n",
       "  Text(0, 0, ''),\n",
       "  Text(0, 0, '')])"
      ]
     },
     "execution_count": 523,
     "metadata": {},
     "output_type": "execute_result"
    },
    {
     "data": {
      "image/png": "[encoded data removed]",
      "text/plain": [
       "<Figure size 432x288 with 1 Axes>"
      ]
     },
     "metadata": {},
     "output_type": "display_data"
    }
   ],
   "source": [
    "columns = [\"age\",\"gender\",\"height\",\"weight\",\"ap_hi\",\"ap_lo\",\"cholesterol\",\"gluc\",\"smoke\",\"alco\",\"active\"]\n",
    "importance = tree.feature_importances_\n",
    "# len(columns) == len(importance)\n",
    "plt.figure()\n",
    "plt.bar(columns,importance)\n",
    "plt.xticks(rotation = 40)"
   ]
  },
  {
   "cell_type": "code",
   "execution_count": null,
   "id": "b8c7512a",
   "metadata": {},
   "outputs": [],
   "source": [
    "plt.figure(figsize=(12,7))\n",
    "sns.set_theme(style=\"whitegrid\")\n",
    "average_ages = df.groupby(\"league_name\")[\"age\"].mean()\n",
    "ax = sns.barplot(x = \"league_name\" , y = \"age\" , data = df , ci = None , order = average_ages.sort_values(ascending = False).index)\n",
    "plt.xticks(rotation = 90)\n",
    "ax.set_title(\"The relationship between player position and his wage\")"
   ]
  },
  {
   "cell_type": "markdown",
   "id": "96a9e9cc",
   "metadata": {},
   "source": [
    "# Data Analytics and Visualization"
   ]
  },
  {
   "cell_type": "code",
   "execution_count": 524,
   "id": "be350821",
   "metadata": {},
   "outputs": [
    {
     "data": {
      "text/html": [
       "<div>\n",
       "<style scoped>\n",
       "    .dataframe tbody tr th:only-of-type {\n",
       "        vertical-align: middle;\n",
       "    }\n",
       "\n",
       "    .dataframe tbody tr th {\n",
       "        vertical-align: top;\n",
       "    }\n",
       "\n",
       "    .dataframe thead th {\n",
       "        text-align: right;\n",
       "    }\n",
       "</style>\n",
       "<table border=\"1\" class=\"dataframe\">\n",
       "  <thead>\n",
       "    <tr style=\"text-align: right;\">\n",
       "      <th></th>\n",
       "      <th>age</th>\n",
       "      <th>gender</th>\n",
       "      <th>height</th>\n",
       "      <th>weight</th>\n",
       "      <th>ap_hi</th>\n",
       "      <th>ap_lo</th>\n",
       "      <th>cholesterol</th>\n",
       "      <th>gluc</th>\n",
       "      <th>smoke</th>\n",
       "      <th>alco</th>\n",
       "      <th>active</th>\n",
       "      <th>cardio</th>\n",
       "    </tr>\n",
       "  </thead>\n",
       "  <tbody>\n",
       "    <tr>\n",
       "      <th>0</th>\n",
       "      <td>62</td>\n",
       "      <td>1</td>\n",
       "      <td>155</td>\n",
       "      <td>69.0</td>\n",
       "      <td>130.0</td>\n",
       "      <td>80.0</td>\n",
       "      <td>2</td>\n",
       "      <td>2</td>\n",
       "      <td>0</td>\n",
       "      <td>0</td>\n",
       "      <td>1</td>\n",
       "      <td>0</td>\n",
       "    </tr>\n",
       "    <tr>\n",
       "      <th>1</th>\n",
       "      <td>40</td>\n",
       "      <td>1</td>\n",
       "      <td>163</td>\n",
       "      <td>71.0</td>\n",
       "      <td>110.0</td>\n",
       "      <td>70.0</td>\n",
       "      <td>1</td>\n",
       "      <td>1</td>\n",
       "      <td>0</td>\n",
       "      <td>0</td>\n",
       "      <td>1</td>\n",
       "      <td>1</td>\n",
       "    </tr>\n",
       "    <tr>\n",
       "      <th>2</th>\n",
       "      <td>60</td>\n",
       "      <td>1</td>\n",
       "      <td>165</td>\n",
       "      <td>70.0</td>\n",
       "      <td>120.0</td>\n",
       "      <td>80.0</td>\n",
       "      <td>1</td>\n",
       "      <td>1</td>\n",
       "      <td>0</td>\n",
       "      <td>0</td>\n",
       "      <td>1</td>\n",
       "      <td>0</td>\n",
       "    </tr>\n",
       "    <tr>\n",
       "      <th>3</th>\n",
       "      <td>40</td>\n",
       "      <td>2</td>\n",
       "      <td>165</td>\n",
       "      <td>85.0</td>\n",
       "      <td>120.0</td>\n",
       "      <td>80.0</td>\n",
       "      <td>1</td>\n",
       "      <td>1</td>\n",
       "      <td>1</td>\n",
       "      <td>1</td>\n",
       "      <td>1</td>\n",
       "      <td>0</td>\n",
       "    </tr>\n",
       "    <tr>\n",
       "      <th>4</th>\n",
       "      <td>64</td>\n",
       "      <td>1</td>\n",
       "      <td>155</td>\n",
       "      <td>62.0</td>\n",
       "      <td>120.0</td>\n",
       "      <td>80.0</td>\n",
       "      <td>1</td>\n",
       "      <td>1</td>\n",
       "      <td>0</td>\n",
       "      <td>0</td>\n",
       "      <td>1</td>\n",
       "      <td>0</td>\n",
       "    </tr>\n",
       "  </tbody>\n",
       "</table>\n",
       "</div>"
      ],
      "text/plain": [
       "   age  gender  height  weight  ap_hi  ap_lo  cholesterol  gluc  smoke  alco  \\\n",
       "0   62       1     155    69.0  130.0   80.0            2     2      0     0   \n",
       "1   40       1     163    71.0  110.0   70.0            1     1      0     0   \n",
       "2   60       1     165    70.0  120.0   80.0            1     1      0     0   \n",
       "3   40       2     165    85.0  120.0   80.0            1     1      1     1   \n",
       "4   64       1     155    62.0  120.0   80.0            1     1      0     0   \n",
       "\n",
       "   active  cardio  \n",
       "0       1       0  \n",
       "1       1       1  \n",
       "2       1       0  \n",
       "3       1       0  \n",
       "4       1       0  "
      ]
     },
     "execution_count": 524,
     "metadata": {},
     "output_type": "execute_result"
    }
   ],
   "source": [
    "df.head()"
   ]
  },
  {
   "cell_type": "code",
   "execution_count": 525,
   "id": "4f44f07b",
   "metadata": {
    "scrolled": true
   },
   "outputs": [
    {
     "data": {
      "image/png": "[encoded data removed]",
      "text/plain": [
       "<Figure size 720x720 with 1 Axes>"
      ]
     },
     "metadata": {},
     "output_type": "display_data"
    }
   ],
   "source": [
    "plt.figure(figsize=(10,10))\n",
    "sns.boxplot(data = df)\n",
    "plt.xticks(rotation=40)\n",
    "plt.show()"
   ]
  },
  {
   "cell_type": "markdown",
   "id": "c3288642",
   "metadata": {},
   "source": [
    "## Who is more active males or females?"
   ]
  },
  {
   "cell_type": "code",
   "execution_count": 538,
   "id": "851c67e8",
   "metadata": {},
   "outputs": [
    {
     "data": {
      "text/plain": [
       "array(['female', 'male'], dtype=object)"
      ]
     },
     "execution_count": 538,
     "metadata": {},
     "output_type": "execute_result"
    }
   ],
   "source": [
    "df['gender']=df['gender'].replace(1,'Female')\n",
    "df['gender']=df['gender'].replace(2,'Male')\n",
    "df[\"gender\"].unique()"
   ]
  },
  {
   "cell_type": "code",
   "execution_count": 547,
   "id": "454d6aa7",
   "metadata": {},
   "outputs": [
    {
     "data": {
      "text/plain": [
       "Text(0, 0.5, 'Activity Index')"
      ]
     },
     "execution_count": 547,
     "metadata": {},
     "output_type": "execute_result"
    },
    {
     "data": {
      "image/png": "[encoded data removed]",
      "text/plain": [
       "<Figure size 504x504 with 1 Axes>"
      ]
     },
     "metadata": {},
     "output_type": "display_data"
    }
   ],
   "source": [
    "plt.figure(figsize=(7,7))\n",
    "sns.set_theme(style=\"whitegrid\")\n",
    "ax = sns.barplot(x=\"gender\", y=\"active\", data=df, palette=\"Blues_d\")\n",
    "plt.title(\"Relation Between Gender and Activity\")\n",
    "plt.xlabel(\"Gender\", fontsize = 14)\n",
    "plt.ylabel(\"Activity Index\", fontsize = 14)\n",
    "# Actually both male and female have the same avivity index"
   ]
  },
  {
   "cell_type": "code",
   "execution_count": null,
   "id": "f6037218",
   "metadata": {},
   "outputs": [],
   "source": [
    "#age\tgender\theight\tweight\tap_hi\tap_lo\tcholesterol\tgluc\tsmoke\talco\tactive\tcardio"
   ]
  },
  {
   "cell_type": "code",
   "execution_count": 548,
   "id": "1f8a853e",
   "metadata": {},
   "outputs": [
    {
     "data": {
      "text/plain": [
       "Text(0, 0.5, 'Activity Index')"
      ]
     },
     "execution_count": 548,
     "metadata": {},
     "output_type": "execute_result"
    },
    {
     "data": {
      "image/png": "[encoded data removed]",
      "text/plain": [
       "<Figure size 504x504 with 1 Axes>"
      ]
     },
     "metadata": {},
     "output_type": "display_data"
    }
   ],
   "source": [
    "plt.figure(figsize=(7,7))\n",
    "sns.set_theme(style=\"whitegrid\")\n",
    "ax = sns.barplot(x=\"gender\", y=\"weight\", data=df, palette=\"Blues_d\")\n",
    "plt.title(\"Relation Between Gender and Activity\")\n",
    "plt.xlabel(\"Gender\", fontsize = 14)\n",
    "plt.ylabel(\"Activity Index\", fontsize = 14)"
   ]
  },
  {
   "cell_type": "code",
   "execution_count": null,
   "id": "4ff07bd1",
   "metadata": {},
   "outputs": [],
   "source": []
  }
 ],
 "metadata": {
  "kernelspec": {
   "display_name": "Python 3 (ipykernel)",
   "language": "python",
   "name": "python3"
  },
  "language_info": {
   "codemirror_mode": {
    "name": "ipython",
    "version": 3
   },
   "file_extension": ".py",
   "mimetype": "text/x-python",
   "name": "python",
   "nbconvert_exporter": "python",
   "pygments_lexer": "ipython3",
   "version": "3.9.7"
  }
 },
 "nbformat": 4,
 "nbformat_minor": 5
}
